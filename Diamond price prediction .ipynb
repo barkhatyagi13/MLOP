{
 "cells": [
  {
   "cell_type": "markdown",
   "id": "ca997663",
   "metadata": {},
   "source": [
    "# Diamond Price Prediction "
   ]
  },
  {
   "cell_type": "markdown",
   "id": "7b80e727",
   "metadata": {},
   "source": [
    "# Problem Statement"
   ]
  },
  {
   "cell_type": "markdown",
   "id": "68071bbf",
   "metadata": {},
   "source": [
    "The objective of this project is to develop a predictive model that accurately estimates the price of diamonds based on their various features. The dataset contains information about diamonds, including their carat, cut, color, clarity, and dimensions. The goal is to build a machine learning model that can take these features as input and predict the price of diamonds with a high level of accuracy. This model will assist jewelers, buyers, and sellers in determining the appropriate price range for diamonds based on their characteristics, enabling them to make informed decisions during transactions.\n",
    "\n",
    "The project will involve data preprocessing, exploratory data analysis, feature engineering, and the development and evaluation of predictive models. The model's performance will be assessed using appropriate evaluation metrics, such as root mean squared error or mean absolute percentage error, to measure the accuracy of the price predictions."
   ]
  },
  {
   "cell_type": "markdown",
   "id": "c0769b32",
   "metadata": {},
   "source": [
    "# Importing relevant libraries"
   ]
  },
  {
   "cell_type": "code",
   "execution_count": 2,
   "id": "1c5c7517",
   "metadata": {},
   "outputs": [],
   "source": [
    "import numpy as np\n",
    "import pandas as pd\n",
    "import matplotlib.pyplot as plt\n",
    "import warnings\n",
    "warnings.filterwarnings(\"ignore\")\n",
    "import seaborn as sns\n",
    "sns.set(style='whitegrid')\n",
    "from sklearn.linear_model import LinearRegression\n",
    "from sklearn.model_selection import train_test_split\n",
    "from sklearn import metrics\n",
    "import statsmodels.api as sm\n",
    "import plotly.express as px \n",
    "from mlxtend.feature_selection import SequentialFeatureSelector\n",
    "from sklearn.metrics import mean_squared_error\n",
    "from sklearn.feature_selection import RFE\n",
    "from sklearn.metrics import SCORERS"
   ]
  },
  {
   "cell_type": "code",
   "execution_count": 3,
   "id": "c5078ff0",
   "metadata": {},
   "outputs": [],
   "source": [
    "# uploading the data set\n",
    "\n",
    "df = pd.read_csv(\"Diamond.csv\")"
   ]
  },
  {
   "cell_type": "code",
   "execution_count": 4,
   "id": "785e4805",
   "metadata": {},
   "outputs": [
    {
     "data": {
      "text/html": [
       "<div>\n",
       "<style scoped>\n",
       "    .dataframe tbody tr th:only-of-type {\n",
       "        vertical-align: middle;\n",
       "    }\n",
       "\n",
       "    .dataframe tbody tr th {\n",
       "        vertical-align: top;\n",
       "    }\n",
       "\n",
       "    .dataframe thead th {\n",
       "        text-align: right;\n",
       "    }\n",
       "</style>\n",
       "<table border=\"1\" class=\"dataframe\">\n",
       "  <thead>\n",
       "    <tr style=\"text-align: right;\">\n",
       "      <th></th>\n",
       "      <th>carat</th>\n",
       "      <th>cut</th>\n",
       "      <th>color</th>\n",
       "      <th>clarity</th>\n",
       "      <th>depth</th>\n",
       "      <th>table</th>\n",
       "      <th>price</th>\n",
       "      <th>x</th>\n",
       "      <th>y</th>\n",
       "      <th>z</th>\n",
       "    </tr>\n",
       "  </thead>\n",
       "  <tbody>\n",
       "    <tr>\n",
       "      <th>0</th>\n",
       "      <td>0.23</td>\n",
       "      <td>Ideal</td>\n",
       "      <td>E</td>\n",
       "      <td>SI2</td>\n",
       "      <td>61.5</td>\n",
       "      <td>55.0</td>\n",
       "      <td>326</td>\n",
       "      <td>3.95</td>\n",
       "      <td>3.98</td>\n",
       "      <td>2.43</td>\n",
       "    </tr>\n",
       "    <tr>\n",
       "      <th>1</th>\n",
       "      <td>0.21</td>\n",
       "      <td>Premium</td>\n",
       "      <td>E</td>\n",
       "      <td>SI1</td>\n",
       "      <td>59.8</td>\n",
       "      <td>61.0</td>\n",
       "      <td>326</td>\n",
       "      <td>3.89</td>\n",
       "      <td>3.84</td>\n",
       "      <td>2.31</td>\n",
       "    </tr>\n",
       "    <tr>\n",
       "      <th>2</th>\n",
       "      <td>0.23</td>\n",
       "      <td>Good</td>\n",
       "      <td>E</td>\n",
       "      <td>VS1</td>\n",
       "      <td>56.9</td>\n",
       "      <td>65.0</td>\n",
       "      <td>327</td>\n",
       "      <td>4.05</td>\n",
       "      <td>4.07</td>\n",
       "      <td>2.31</td>\n",
       "    </tr>\n",
       "    <tr>\n",
       "      <th>3</th>\n",
       "      <td>0.29</td>\n",
       "      <td>Premium</td>\n",
       "      <td>I</td>\n",
       "      <td>VS2</td>\n",
       "      <td>62.4</td>\n",
       "      <td>58.0</td>\n",
       "      <td>334</td>\n",
       "      <td>4.20</td>\n",
       "      <td>4.23</td>\n",
       "      <td>2.63</td>\n",
       "    </tr>\n",
       "    <tr>\n",
       "      <th>4</th>\n",
       "      <td>0.31</td>\n",
       "      <td>Good</td>\n",
       "      <td>J</td>\n",
       "      <td>SI2</td>\n",
       "      <td>63.3</td>\n",
       "      <td>58.0</td>\n",
       "      <td>335</td>\n",
       "      <td>4.34</td>\n",
       "      <td>4.35</td>\n",
       "      <td>2.75</td>\n",
       "    </tr>\n",
       "    <tr>\n",
       "      <th>...</th>\n",
       "      <td>...</td>\n",
       "      <td>...</td>\n",
       "      <td>...</td>\n",
       "      <td>...</td>\n",
       "      <td>...</td>\n",
       "      <td>...</td>\n",
       "      <td>...</td>\n",
       "      <td>...</td>\n",
       "      <td>...</td>\n",
       "      <td>...</td>\n",
       "    </tr>\n",
       "    <tr>\n",
       "      <th>53935</th>\n",
       "      <td>0.72</td>\n",
       "      <td>Ideal</td>\n",
       "      <td>D</td>\n",
       "      <td>SI1</td>\n",
       "      <td>60.8</td>\n",
       "      <td>57.0</td>\n",
       "      <td>2757</td>\n",
       "      <td>5.75</td>\n",
       "      <td>5.76</td>\n",
       "      <td>3.50</td>\n",
       "    </tr>\n",
       "    <tr>\n",
       "      <th>53936</th>\n",
       "      <td>0.72</td>\n",
       "      <td>Good</td>\n",
       "      <td>D</td>\n",
       "      <td>SI1</td>\n",
       "      <td>63.1</td>\n",
       "      <td>55.0</td>\n",
       "      <td>2757</td>\n",
       "      <td>5.69</td>\n",
       "      <td>5.75</td>\n",
       "      <td>3.61</td>\n",
       "    </tr>\n",
       "    <tr>\n",
       "      <th>53937</th>\n",
       "      <td>0.70</td>\n",
       "      <td>Very Good</td>\n",
       "      <td>D</td>\n",
       "      <td>SI1</td>\n",
       "      <td>62.8</td>\n",
       "      <td>60.0</td>\n",
       "      <td>2757</td>\n",
       "      <td>5.66</td>\n",
       "      <td>5.68</td>\n",
       "      <td>3.56</td>\n",
       "    </tr>\n",
       "    <tr>\n",
       "      <th>53938</th>\n",
       "      <td>0.86</td>\n",
       "      <td>Premium</td>\n",
       "      <td>H</td>\n",
       "      <td>SI2</td>\n",
       "      <td>61.0</td>\n",
       "      <td>58.0</td>\n",
       "      <td>2757</td>\n",
       "      <td>6.15</td>\n",
       "      <td>6.12</td>\n",
       "      <td>3.74</td>\n",
       "    </tr>\n",
       "    <tr>\n",
       "      <th>53939</th>\n",
       "      <td>0.75</td>\n",
       "      <td>Ideal</td>\n",
       "      <td>D</td>\n",
       "      <td>SI2</td>\n",
       "      <td>62.2</td>\n",
       "      <td>55.0</td>\n",
       "      <td>2757</td>\n",
       "      <td>5.83</td>\n",
       "      <td>5.87</td>\n",
       "      <td>3.64</td>\n",
       "    </tr>\n",
       "  </tbody>\n",
       "</table>\n",
       "<p>53940 rows × 10 columns</p>\n",
       "</div>"
      ],
      "text/plain": [
       "       carat        cut color clarity  depth  table  price     x     y     z\n",
       "0       0.23      Ideal     E     SI2   61.5   55.0    326  3.95  3.98  2.43\n",
       "1       0.21    Premium     E     SI1   59.8   61.0    326  3.89  3.84  2.31\n",
       "2       0.23       Good     E     VS1   56.9   65.0    327  4.05  4.07  2.31\n",
       "3       0.29    Premium     I     VS2   62.4   58.0    334  4.20  4.23  2.63\n",
       "4       0.31       Good     J     SI2   63.3   58.0    335  4.34  4.35  2.75\n",
       "...      ...        ...   ...     ...    ...    ...    ...   ...   ...   ...\n",
       "53935   0.72      Ideal     D     SI1   60.8   57.0   2757  5.75  5.76  3.50\n",
       "53936   0.72       Good     D     SI1   63.1   55.0   2757  5.69  5.75  3.61\n",
       "53937   0.70  Very Good     D     SI1   62.8   60.0   2757  5.66  5.68  3.56\n",
       "53938   0.86    Premium     H     SI2   61.0   58.0   2757  6.15  6.12  3.74\n",
       "53939   0.75      Ideal     D     SI2   62.2   55.0   2757  5.83  5.87  3.64\n",
       "\n",
       "[53940 rows x 10 columns]"
      ]
     },
     "execution_count": 4,
     "metadata": {},
     "output_type": "execute_result"
    }
   ],
   "source": [
    "df"
   ]
  },
  {
   "cell_type": "markdown",
   "id": "feb68de4",
   "metadata": {},
   "source": [
    "# Data Description"
   ]
  },
  {
   "cell_type": "markdown",
   "id": "ccbc5bc7",
   "metadata": {},
   "source": [
    "Content and meaning of each column in the data is as below:\n",
    "\n",
    "price - diamond price in US dollars and target variable (continuous)\n",
    "\n",
    "carat - weight of the diamond (continuous)\n",
    "\n",
    "cut - quality of cut (categorical)\n",
    "\n",
    "color - diamond color (categorical)\n",
    "\n",
    "clarity - measure of flawless or how clear the diamond is (categorical)\n",
    "\n",
    "depth - total depth percentage estimated by formulas (continuous)\n",
    "\n",
    "table - width of top of the diamond relative to widest point (continuous)\n",
    "\n",
    "x - lenghth in mm (continuous)\n",
    "\n",
    "y - width in mm (continuous)\n",
    "\n",
    "z - depth in mm (continuous)\n"
   ]
  },
  {
   "cell_type": "markdown",
   "id": "98fa5236",
   "metadata": {},
   "source": [
    "# Exploratory Data Analysis"
   ]
  },
  {
   "cell_type": "code",
   "execution_count": 5,
   "id": "b5b2d4dd",
   "metadata": {},
   "outputs": [
    {
     "data": {
      "text/html": [
       "<div>\n",
       "<style scoped>\n",
       "    .dataframe tbody tr th:only-of-type {\n",
       "        vertical-align: middle;\n",
       "    }\n",
       "\n",
       "    .dataframe tbody tr th {\n",
       "        vertical-align: top;\n",
       "    }\n",
       "\n",
       "    .dataframe thead th {\n",
       "        text-align: right;\n",
       "    }\n",
       "</style>\n",
       "<table border=\"1\" class=\"dataframe\">\n",
       "  <thead>\n",
       "    <tr style=\"text-align: right;\">\n",
       "      <th></th>\n",
       "      <th>carat</th>\n",
       "      <th>cut</th>\n",
       "      <th>color</th>\n",
       "      <th>clarity</th>\n",
       "      <th>depth</th>\n",
       "      <th>table</th>\n",
       "      <th>price</th>\n",
       "      <th>x</th>\n",
       "      <th>y</th>\n",
       "      <th>z</th>\n",
       "    </tr>\n",
       "  </thead>\n",
       "  <tbody>\n",
       "    <tr>\n",
       "      <th>0</th>\n",
       "      <td>0.23</td>\n",
       "      <td>Ideal</td>\n",
       "      <td>E</td>\n",
       "      <td>SI2</td>\n",
       "      <td>61.5</td>\n",
       "      <td>55.0</td>\n",
       "      <td>326</td>\n",
       "      <td>3.95</td>\n",
       "      <td>3.98</td>\n",
       "      <td>2.43</td>\n",
       "    </tr>\n",
       "    <tr>\n",
       "      <th>1</th>\n",
       "      <td>0.21</td>\n",
       "      <td>Premium</td>\n",
       "      <td>E</td>\n",
       "      <td>SI1</td>\n",
       "      <td>59.8</td>\n",
       "      <td>61.0</td>\n",
       "      <td>326</td>\n",
       "      <td>3.89</td>\n",
       "      <td>3.84</td>\n",
       "      <td>2.31</td>\n",
       "    </tr>\n",
       "    <tr>\n",
       "      <th>2</th>\n",
       "      <td>0.23</td>\n",
       "      <td>Good</td>\n",
       "      <td>E</td>\n",
       "      <td>VS1</td>\n",
       "      <td>56.9</td>\n",
       "      <td>65.0</td>\n",
       "      <td>327</td>\n",
       "      <td>4.05</td>\n",
       "      <td>4.07</td>\n",
       "      <td>2.31</td>\n",
       "    </tr>\n",
       "    <tr>\n",
       "      <th>3</th>\n",
       "      <td>0.29</td>\n",
       "      <td>Premium</td>\n",
       "      <td>I</td>\n",
       "      <td>VS2</td>\n",
       "      <td>62.4</td>\n",
       "      <td>58.0</td>\n",
       "      <td>334</td>\n",
       "      <td>4.20</td>\n",
       "      <td>4.23</td>\n",
       "      <td>2.63</td>\n",
       "    </tr>\n",
       "    <tr>\n",
       "      <th>4</th>\n",
       "      <td>0.31</td>\n",
       "      <td>Good</td>\n",
       "      <td>J</td>\n",
       "      <td>SI2</td>\n",
       "      <td>63.3</td>\n",
       "      <td>58.0</td>\n",
       "      <td>335</td>\n",
       "      <td>4.34</td>\n",
       "      <td>4.35</td>\n",
       "      <td>2.75</td>\n",
       "    </tr>\n",
       "  </tbody>\n",
       "</table>\n",
       "</div>"
      ],
      "text/plain": [
       "   carat      cut color clarity  depth  table  price     x     y     z\n",
       "0   0.23    Ideal     E     SI2   61.5   55.0    326  3.95  3.98  2.43\n",
       "1   0.21  Premium     E     SI1   59.8   61.0    326  3.89  3.84  2.31\n",
       "2   0.23     Good     E     VS1   56.9   65.0    327  4.05  4.07  2.31\n",
       "3   0.29  Premium     I     VS2   62.4   58.0    334  4.20  4.23  2.63\n",
       "4   0.31     Good     J     SI2   63.3   58.0    335  4.34  4.35  2.75"
      ]
     },
     "execution_count": 5,
     "metadata": {},
     "output_type": "execute_result"
    }
   ],
   "source": [
    "#checking first five rows of the data set\n",
    "\n",
    "df.head()"
   ]
  },
  {
   "cell_type": "code",
   "execution_count": 6,
   "id": "963fe61c",
   "metadata": {},
   "outputs": [
    {
     "data": {
      "text/html": [
       "<div>\n",
       "<style scoped>\n",
       "    .dataframe tbody tr th:only-of-type {\n",
       "        vertical-align: middle;\n",
       "    }\n",
       "\n",
       "    .dataframe tbody tr th {\n",
       "        vertical-align: top;\n",
       "    }\n",
       "\n",
       "    .dataframe thead th {\n",
       "        text-align: right;\n",
       "    }\n",
       "</style>\n",
       "<table border=\"1\" class=\"dataframe\">\n",
       "  <thead>\n",
       "    <tr style=\"text-align: right;\">\n",
       "      <th></th>\n",
       "      <th>carat</th>\n",
       "      <th>cut</th>\n",
       "      <th>color</th>\n",
       "      <th>clarity</th>\n",
       "      <th>depth</th>\n",
       "      <th>table</th>\n",
       "      <th>price</th>\n",
       "      <th>x</th>\n",
       "      <th>y</th>\n",
       "      <th>z</th>\n",
       "    </tr>\n",
       "  </thead>\n",
       "  <tbody>\n",
       "    <tr>\n",
       "      <th>53935</th>\n",
       "      <td>0.72</td>\n",
       "      <td>Ideal</td>\n",
       "      <td>D</td>\n",
       "      <td>SI1</td>\n",
       "      <td>60.8</td>\n",
       "      <td>57.0</td>\n",
       "      <td>2757</td>\n",
       "      <td>5.75</td>\n",
       "      <td>5.76</td>\n",
       "      <td>3.50</td>\n",
       "    </tr>\n",
       "    <tr>\n",
       "      <th>53936</th>\n",
       "      <td>0.72</td>\n",
       "      <td>Good</td>\n",
       "      <td>D</td>\n",
       "      <td>SI1</td>\n",
       "      <td>63.1</td>\n",
       "      <td>55.0</td>\n",
       "      <td>2757</td>\n",
       "      <td>5.69</td>\n",
       "      <td>5.75</td>\n",
       "      <td>3.61</td>\n",
       "    </tr>\n",
       "    <tr>\n",
       "      <th>53937</th>\n",
       "      <td>0.70</td>\n",
       "      <td>Very Good</td>\n",
       "      <td>D</td>\n",
       "      <td>SI1</td>\n",
       "      <td>62.8</td>\n",
       "      <td>60.0</td>\n",
       "      <td>2757</td>\n",
       "      <td>5.66</td>\n",
       "      <td>5.68</td>\n",
       "      <td>3.56</td>\n",
       "    </tr>\n",
       "    <tr>\n",
       "      <th>53938</th>\n",
       "      <td>0.86</td>\n",
       "      <td>Premium</td>\n",
       "      <td>H</td>\n",
       "      <td>SI2</td>\n",
       "      <td>61.0</td>\n",
       "      <td>58.0</td>\n",
       "      <td>2757</td>\n",
       "      <td>6.15</td>\n",
       "      <td>6.12</td>\n",
       "      <td>3.74</td>\n",
       "    </tr>\n",
       "    <tr>\n",
       "      <th>53939</th>\n",
       "      <td>0.75</td>\n",
       "      <td>Ideal</td>\n",
       "      <td>D</td>\n",
       "      <td>SI2</td>\n",
       "      <td>62.2</td>\n",
       "      <td>55.0</td>\n",
       "      <td>2757</td>\n",
       "      <td>5.83</td>\n",
       "      <td>5.87</td>\n",
       "      <td>3.64</td>\n",
       "    </tr>\n",
       "  </tbody>\n",
       "</table>\n",
       "</div>"
      ],
      "text/plain": [
       "       carat        cut color clarity  depth  table  price     x     y     z\n",
       "53935   0.72      Ideal     D     SI1   60.8   57.0   2757  5.75  5.76  3.50\n",
       "53936   0.72       Good     D     SI1   63.1   55.0   2757  5.69  5.75  3.61\n",
       "53937   0.70  Very Good     D     SI1   62.8   60.0   2757  5.66  5.68  3.56\n",
       "53938   0.86    Premium     H     SI2   61.0   58.0   2757  6.15  6.12  3.74\n",
       "53939   0.75      Ideal     D     SI2   62.2   55.0   2757  5.83  5.87  3.64"
      ]
     },
     "execution_count": 6,
     "metadata": {},
     "output_type": "execute_result"
    }
   ],
   "source": [
    "#checking last 5 rows of the data set\n",
    "\n",
    "df.tail()"
   ]
  },
  {
   "cell_type": "code",
   "execution_count": 7,
   "id": "328eb98f",
   "metadata": {},
   "outputs": [
    {
     "data": {
      "text/plain": [
       "(53940, 10)"
      ]
     },
     "execution_count": 7,
     "metadata": {},
     "output_type": "execute_result"
    }
   ],
   "source": [
    "#checking the shape\n",
    "\n",
    "df.shape"
   ]
  },
  {
   "cell_type": "markdown",
   "id": "8b13243e",
   "metadata": {},
   "source": [
    "There are total 53,940 rows and 10 columns in the data set"
   ]
  },
  {
   "cell_type": "code",
   "execution_count": 8,
   "id": "cce6dc8b",
   "metadata": {},
   "outputs": [
    {
     "name": "stdout",
     "output_type": "stream",
     "text": [
      "<class 'pandas.core.frame.DataFrame'>\n",
      "RangeIndex: 53940 entries, 0 to 53939\n",
      "Data columns (total 10 columns):\n",
      " #   Column   Non-Null Count  Dtype  \n",
      "---  ------   --------------  -----  \n",
      " 0   carat    53940 non-null  float64\n",
      " 1   cut      53940 non-null  object \n",
      " 2   color    53940 non-null  object \n",
      " 3   clarity  53940 non-null  object \n",
      " 4   depth    53940 non-null  float64\n",
      " 5   table    53940 non-null  float64\n",
      " 6   price    53940 non-null  int64  \n",
      " 7   x        53940 non-null  float64\n",
      " 8   y        53940 non-null  float64\n",
      " 9   z        53940 non-null  float64\n",
      "dtypes: float64(6), int64(1), object(3)\n",
      "memory usage: 4.1+ MB\n"
     ]
    }
   ],
   "source": [
    "#checking information about the data\n",
    "\n",
    "df.info()"
   ]
  },
  {
   "cell_type": "code",
   "execution_count": 9,
   "id": "30133d79",
   "metadata": {},
   "outputs": [
    {
     "data": {
      "text/html": [
       "<div>\n",
       "<style scoped>\n",
       "    .dataframe tbody tr th:only-of-type {\n",
       "        vertical-align: middle;\n",
       "    }\n",
       "\n",
       "    .dataframe tbody tr th {\n",
       "        vertical-align: top;\n",
       "    }\n",
       "\n",
       "    .dataframe thead th {\n",
       "        text-align: right;\n",
       "    }\n",
       "</style>\n",
       "<table border=\"1\" class=\"dataframe\">\n",
       "  <thead>\n",
       "    <tr style=\"text-align: right;\">\n",
       "      <th></th>\n",
       "      <th>carat</th>\n",
       "      <th>depth</th>\n",
       "      <th>table</th>\n",
       "      <th>price</th>\n",
       "      <th>x</th>\n",
       "      <th>y</th>\n",
       "      <th>z</th>\n",
       "    </tr>\n",
       "  </thead>\n",
       "  <tbody>\n",
       "    <tr>\n",
       "      <th>count</th>\n",
       "      <td>53940.000000</td>\n",
       "      <td>53940.000000</td>\n",
       "      <td>53940.000000</td>\n",
       "      <td>53940.000000</td>\n",
       "      <td>53940.000000</td>\n",
       "      <td>53940.000000</td>\n",
       "      <td>53940.000000</td>\n",
       "    </tr>\n",
       "    <tr>\n",
       "      <th>mean</th>\n",
       "      <td>0.797940</td>\n",
       "      <td>61.749405</td>\n",
       "      <td>57.457184</td>\n",
       "      <td>3932.799722</td>\n",
       "      <td>5.731157</td>\n",
       "      <td>5.734526</td>\n",
       "      <td>3.538734</td>\n",
       "    </tr>\n",
       "    <tr>\n",
       "      <th>std</th>\n",
       "      <td>0.474011</td>\n",
       "      <td>1.432621</td>\n",
       "      <td>2.234491</td>\n",
       "      <td>3989.439738</td>\n",
       "      <td>1.121761</td>\n",
       "      <td>1.142135</td>\n",
       "      <td>0.705699</td>\n",
       "    </tr>\n",
       "    <tr>\n",
       "      <th>min</th>\n",
       "      <td>0.200000</td>\n",
       "      <td>43.000000</td>\n",
       "      <td>43.000000</td>\n",
       "      <td>326.000000</td>\n",
       "      <td>0.000000</td>\n",
       "      <td>0.000000</td>\n",
       "      <td>0.000000</td>\n",
       "    </tr>\n",
       "    <tr>\n",
       "      <th>25%</th>\n",
       "      <td>0.400000</td>\n",
       "      <td>61.000000</td>\n",
       "      <td>56.000000</td>\n",
       "      <td>950.000000</td>\n",
       "      <td>4.710000</td>\n",
       "      <td>4.720000</td>\n",
       "      <td>2.910000</td>\n",
       "    </tr>\n",
       "    <tr>\n",
       "      <th>50%</th>\n",
       "      <td>0.700000</td>\n",
       "      <td>61.800000</td>\n",
       "      <td>57.000000</td>\n",
       "      <td>2401.000000</td>\n",
       "      <td>5.700000</td>\n",
       "      <td>5.710000</td>\n",
       "      <td>3.530000</td>\n",
       "    </tr>\n",
       "    <tr>\n",
       "      <th>75%</th>\n",
       "      <td>1.040000</td>\n",
       "      <td>62.500000</td>\n",
       "      <td>59.000000</td>\n",
       "      <td>5324.250000</td>\n",
       "      <td>6.540000</td>\n",
       "      <td>6.540000</td>\n",
       "      <td>4.040000</td>\n",
       "    </tr>\n",
       "    <tr>\n",
       "      <th>max</th>\n",
       "      <td>5.010000</td>\n",
       "      <td>79.000000</td>\n",
       "      <td>95.000000</td>\n",
       "      <td>18823.000000</td>\n",
       "      <td>10.740000</td>\n",
       "      <td>58.900000</td>\n",
       "      <td>31.800000</td>\n",
       "    </tr>\n",
       "  </tbody>\n",
       "</table>\n",
       "</div>"
      ],
      "text/plain": [
       "              carat         depth         table         price             x  \\\n",
       "count  53940.000000  53940.000000  53940.000000  53940.000000  53940.000000   \n",
       "mean       0.797940     61.749405     57.457184   3932.799722      5.731157   \n",
       "std        0.474011      1.432621      2.234491   3989.439738      1.121761   \n",
       "min        0.200000     43.000000     43.000000    326.000000      0.000000   \n",
       "25%        0.400000     61.000000     56.000000    950.000000      4.710000   \n",
       "50%        0.700000     61.800000     57.000000   2401.000000      5.700000   \n",
       "75%        1.040000     62.500000     59.000000   5324.250000      6.540000   \n",
       "max        5.010000     79.000000     95.000000  18823.000000     10.740000   \n",
       "\n",
       "                  y             z  \n",
       "count  53940.000000  53940.000000  \n",
       "mean       5.734526      3.538734  \n",
       "std        1.142135      0.705699  \n",
       "min        0.000000      0.000000  \n",
       "25%        4.720000      2.910000  \n",
       "50%        5.710000      3.530000  \n",
       "75%        6.540000      4.040000  \n",
       "max       58.900000     31.800000  "
      ]
     },
     "execution_count": 9,
     "metadata": {},
     "output_type": "execute_result"
    }
   ],
   "source": [
    "#getting data's description\n",
    "\n",
    "df.describe()"
   ]
  },
  {
   "cell_type": "code",
   "execution_count": 10,
   "id": "e7b63925",
   "metadata": {
    "scrolled": true
   },
   "outputs": [
    {
     "data": {
      "text/plain": [
       "Index(['carat', 'cut', 'color', 'clarity', 'depth', 'table', 'price', 'x', 'y',\n",
       "       'z'],\n",
       "      dtype='object')"
      ]
     },
     "execution_count": 10,
     "metadata": {},
     "output_type": "execute_result"
    }
   ],
   "source": [
    "#all the columns present in the data set\n",
    "\n",
    "df.columns"
   ]
  },
  {
   "cell_type": "code",
   "execution_count": 11,
   "id": "7984802e",
   "metadata": {},
   "outputs": [
    {
     "data": {
      "text/plain": [
       "carat      float64\n",
       "cut         object\n",
       "color       object\n",
       "clarity     object\n",
       "depth      float64\n",
       "table      float64\n",
       "price        int64\n",
       "x          float64\n",
       "y          float64\n",
       "z          float64\n",
       "dtype: object"
      ]
     },
     "execution_count": 11,
     "metadata": {},
     "output_type": "execute_result"
    }
   ],
   "source": [
    "#all data types\n",
    "\n",
    "df.dtypes"
   ]
  },
  {
   "cell_type": "code",
   "execution_count": 12,
   "id": "1a975202",
   "metadata": {
    "scrolled": true
   },
   "outputs": [
    {
     "data": {
      "text/html": [
       "<div>\n",
       "<style scoped>\n",
       "    .dataframe tbody tr th:only-of-type {\n",
       "        vertical-align: middle;\n",
       "    }\n",
       "\n",
       "    .dataframe tbody tr th {\n",
       "        vertical-align: top;\n",
       "    }\n",
       "\n",
       "    .dataframe thead th {\n",
       "        text-align: right;\n",
       "    }\n",
       "</style>\n",
       "<table border=\"1\" class=\"dataframe\">\n",
       "  <thead>\n",
       "    <tr style=\"text-align: right;\">\n",
       "      <th></th>\n",
       "      <th>carat</th>\n",
       "      <th>cut</th>\n",
       "      <th>color</th>\n",
       "      <th>clarity</th>\n",
       "      <th>depth</th>\n",
       "      <th>table</th>\n",
       "      <th>price</th>\n",
       "      <th>x</th>\n",
       "      <th>y</th>\n",
       "      <th>z</th>\n",
       "    </tr>\n",
       "  </thead>\n",
       "  <tbody>\n",
       "    <tr>\n",
       "      <th>1005</th>\n",
       "      <td>0.79</td>\n",
       "      <td>Ideal</td>\n",
       "      <td>G</td>\n",
       "      <td>SI1</td>\n",
       "      <td>62.3</td>\n",
       "      <td>57.0</td>\n",
       "      <td>2898</td>\n",
       "      <td>5.90</td>\n",
       "      <td>5.85</td>\n",
       "      <td>3.66</td>\n",
       "    </tr>\n",
       "    <tr>\n",
       "      <th>1006</th>\n",
       "      <td>0.79</td>\n",
       "      <td>Ideal</td>\n",
       "      <td>G</td>\n",
       "      <td>SI1</td>\n",
       "      <td>62.3</td>\n",
       "      <td>57.0</td>\n",
       "      <td>2898</td>\n",
       "      <td>5.90</td>\n",
       "      <td>5.85</td>\n",
       "      <td>3.66</td>\n",
       "    </tr>\n",
       "    <tr>\n",
       "      <th>1007</th>\n",
       "      <td>0.79</td>\n",
       "      <td>Ideal</td>\n",
       "      <td>G</td>\n",
       "      <td>SI1</td>\n",
       "      <td>62.3</td>\n",
       "      <td>57.0</td>\n",
       "      <td>2898</td>\n",
       "      <td>5.90</td>\n",
       "      <td>5.85</td>\n",
       "      <td>3.66</td>\n",
       "    </tr>\n",
       "    <tr>\n",
       "      <th>1008</th>\n",
       "      <td>0.79</td>\n",
       "      <td>Ideal</td>\n",
       "      <td>G</td>\n",
       "      <td>SI1</td>\n",
       "      <td>62.3</td>\n",
       "      <td>57.0</td>\n",
       "      <td>2898</td>\n",
       "      <td>5.90</td>\n",
       "      <td>5.85</td>\n",
       "      <td>3.66</td>\n",
       "    </tr>\n",
       "    <tr>\n",
       "      <th>2025</th>\n",
       "      <td>1.52</td>\n",
       "      <td>Good</td>\n",
       "      <td>E</td>\n",
       "      <td>I1</td>\n",
       "      <td>57.3</td>\n",
       "      <td>58.0</td>\n",
       "      <td>3105</td>\n",
       "      <td>7.53</td>\n",
       "      <td>7.42</td>\n",
       "      <td>4.28</td>\n",
       "    </tr>\n",
       "    <tr>\n",
       "      <th>...</th>\n",
       "      <td>...</td>\n",
       "      <td>...</td>\n",
       "      <td>...</td>\n",
       "      <td>...</td>\n",
       "      <td>...</td>\n",
       "      <td>...</td>\n",
       "      <td>...</td>\n",
       "      <td>...</td>\n",
       "      <td>...</td>\n",
       "      <td>...</td>\n",
       "    </tr>\n",
       "    <tr>\n",
       "      <th>47969</th>\n",
       "      <td>0.52</td>\n",
       "      <td>Ideal</td>\n",
       "      <td>D</td>\n",
       "      <td>VS2</td>\n",
       "      <td>61.8</td>\n",
       "      <td>55.0</td>\n",
       "      <td>1919</td>\n",
       "      <td>5.19</td>\n",
       "      <td>5.16</td>\n",
       "      <td>3.20</td>\n",
       "    </tr>\n",
       "    <tr>\n",
       "      <th>49326</th>\n",
       "      <td>0.51</td>\n",
       "      <td>Ideal</td>\n",
       "      <td>F</td>\n",
       "      <td>VVS2</td>\n",
       "      <td>61.2</td>\n",
       "      <td>56.0</td>\n",
       "      <td>2093</td>\n",
       "      <td>5.17</td>\n",
       "      <td>5.19</td>\n",
       "      <td>3.17</td>\n",
       "    </tr>\n",
       "    <tr>\n",
       "      <th>49557</th>\n",
       "      <td>0.71</td>\n",
       "      <td>Good</td>\n",
       "      <td>F</td>\n",
       "      <td>SI2</td>\n",
       "      <td>64.1</td>\n",
       "      <td>60.0</td>\n",
       "      <td>2130</td>\n",
       "      <td>0.00</td>\n",
       "      <td>0.00</td>\n",
       "      <td>0.00</td>\n",
       "    </tr>\n",
       "    <tr>\n",
       "      <th>50079</th>\n",
       "      <td>0.51</td>\n",
       "      <td>Ideal</td>\n",
       "      <td>F</td>\n",
       "      <td>VVS2</td>\n",
       "      <td>61.2</td>\n",
       "      <td>56.0</td>\n",
       "      <td>2203</td>\n",
       "      <td>5.19</td>\n",
       "      <td>5.17</td>\n",
       "      <td>3.17</td>\n",
       "    </tr>\n",
       "    <tr>\n",
       "      <th>52861</th>\n",
       "      <td>0.50</td>\n",
       "      <td>Fair</td>\n",
       "      <td>E</td>\n",
       "      <td>VS2</td>\n",
       "      <td>79.0</td>\n",
       "      <td>73.0</td>\n",
       "      <td>2579</td>\n",
       "      <td>5.21</td>\n",
       "      <td>5.18</td>\n",
       "      <td>4.09</td>\n",
       "    </tr>\n",
       "  </tbody>\n",
       "</table>\n",
       "<p>146 rows × 10 columns</p>\n",
       "</div>"
      ],
      "text/plain": [
       "       carat    cut color clarity  depth  table  price     x     y     z\n",
       "1005    0.79  Ideal     G     SI1   62.3   57.0   2898  5.90  5.85  3.66\n",
       "1006    0.79  Ideal     G     SI1   62.3   57.0   2898  5.90  5.85  3.66\n",
       "1007    0.79  Ideal     G     SI1   62.3   57.0   2898  5.90  5.85  3.66\n",
       "1008    0.79  Ideal     G     SI1   62.3   57.0   2898  5.90  5.85  3.66\n",
       "2025    1.52   Good     E      I1   57.3   58.0   3105  7.53  7.42  4.28\n",
       "...      ...    ...   ...     ...    ...    ...    ...   ...   ...   ...\n",
       "47969   0.52  Ideal     D     VS2   61.8   55.0   1919  5.19  5.16  3.20\n",
       "49326   0.51  Ideal     F    VVS2   61.2   56.0   2093  5.17  5.19  3.17\n",
       "49557   0.71   Good     F     SI2   64.1   60.0   2130  0.00  0.00  0.00\n",
       "50079   0.51  Ideal     F    VVS2   61.2   56.0   2203  5.19  5.17  3.17\n",
       "52861   0.50   Fair     E     VS2   79.0   73.0   2579  5.21  5.18  4.09\n",
       "\n",
       "[146 rows x 10 columns]"
      ]
     },
     "execution_count": 12,
     "metadata": {},
     "output_type": "execute_result"
    }
   ],
   "source": [
    "#Checking for duplicates\n",
    "\n",
    "df.loc[df.duplicated(keep='first')]"
   ]
  },
  {
   "cell_type": "markdown",
   "id": "aa384404",
   "metadata": {},
   "source": [
    "We can see 146 duplicate rows"
   ]
  },
  {
   "cell_type": "code",
   "execution_count": 13,
   "id": "a1c5df08",
   "metadata": {},
   "outputs": [],
   "source": [
    "#Removing duplicate rows\n",
    "\n",
    "df = df.drop_duplicates()"
   ]
  },
  {
   "cell_type": "code",
   "execution_count": 14,
   "id": "e6a21a66",
   "metadata": {},
   "outputs": [
    {
     "data": {
      "text/plain": [
       "(53794, 10)"
      ]
     },
     "execution_count": 14,
     "metadata": {},
     "output_type": "execute_result"
    }
   ],
   "source": [
    "df.shape"
   ]
  },
  {
   "cell_type": "markdown",
   "id": "b51dc709",
   "metadata": {},
   "source": [
    "We can see we have dropped 146 rows"
   ]
  },
  {
   "cell_type": "code",
   "execution_count": 15,
   "id": "31ba29ec",
   "metadata": {},
   "outputs": [],
   "source": [
    "#dividing data into categorical and numerical\n",
    "\n",
    "X_num = df.select_dtypes(include = np.number)\n",
    "X_cat = df.select_dtypes(exclude = np.number)"
   ]
  },
  {
   "cell_type": "code",
   "execution_count": 16,
   "id": "9f236c24",
   "metadata": {},
   "outputs": [
    {
     "data": {
      "text/plain": [
       "<bound method DataFrame.value_counts of              cut color clarity\n",
       "0          Ideal     E     SI2\n",
       "1        Premium     E     SI1\n",
       "2           Good     E     VS1\n",
       "3        Premium     I     VS2\n",
       "4           Good     J     SI2\n",
       "...          ...   ...     ...\n",
       "53935      Ideal     D     SI1\n",
       "53936       Good     D     SI1\n",
       "53937  Very Good     D     SI1\n",
       "53938    Premium     H     SI2\n",
       "53939      Ideal     D     SI2\n",
       "\n",
       "[53794 rows x 3 columns]>"
      ]
     },
     "execution_count": 16,
     "metadata": {},
     "output_type": "execute_result"
    }
   ],
   "source": [
    "#checking counts of the values\n",
    "\n",
    "X_cat.value_counts"
   ]
  },
  {
   "cell_type": "code",
   "execution_count": 17,
   "id": "de9c2575",
   "metadata": {},
   "outputs": [
    {
     "data": {
      "image/png": "[encoded data removed]",
      "text/plain": [
       "<Figure size 640x480 with 1 Axes>"
      ]
     },
     "metadata": {},
     "output_type": "display_data"
    }
   ],
   "source": [
    "# Extract the carat and price columns\n",
    "carat = df['carat']\n",
    "price = df['price']\n",
    "\n",
    "# Create scatter plot\n",
    "plt.scatter(carat, price)\n",
    "plt.xlabel('Carat')\n",
    "plt.ylabel('Price')\n",
    "plt.title('Diamond Price vs Carat')\n",
    "plt.show()\n"
   ]
  },
  {
   "cell_type": "markdown",
   "id": "a2b2d9a7",
   "metadata": {},
   "source": [
    "From the scatter plot, we can see the data points tend to form an upward-sloping pattern, it suggests a positive correlation between carat and price. This means that as the carat weight of a diamond increases, the price tends to increase as well."
   ]
  },
  {
   "cell_type": "code",
   "execution_count": 18,
   "id": "093a4771",
   "metadata": {},
   "outputs": [
    {
     "data": {
      "image/png": "[encoded data removed]",
      "text/plain": [
       "<Figure size 640x480 with 1 Axes>"
      ]
     },
     "metadata": {},
     "output_type": "display_data"
    }
   ],
   "source": [
    "x = df['x']\n",
    "price = df['price']\n",
    "# Create scatter plot\n",
    "plt.scatter(x, price)\n",
    "plt.xlabel('x')\n",
    "plt.ylabel('Price')\n",
    "plt.title('Diamond Price vs x')\n",
    "plt.show()"
   ]
  },
  {
   "cell_type": "markdown",
   "id": "1f21f8a4",
   "metadata": {},
   "source": [
    " There is a positive correlation between x and price. This means that as x of a diamond increases, the price tends to increase as well."
   ]
  },
  {
   "cell_type": "code",
   "execution_count": 19,
   "id": "4db6ba3a",
   "metadata": {},
   "outputs": [
    {
     "data": {
      "image/png": "[encoded data removed]",
      "text/plain": [
       "<Figure size 640x480 with 1 Axes>"
      ]
     },
     "metadata": {},
     "output_type": "display_data"
    }
   ],
   "source": [
    "y = df['y']\n",
    "price = df['price']\n",
    "\n",
    "# Create scatter plot\n",
    "plt.scatter(y, price)\n",
    "plt.xlabel('y')\n",
    "plt.ylabel('Price')\n",
    "plt.title('Diamond Price vs y')\n",
    "\n",
    "plt.xlim(0, 15)\n",
    "\n",
    "\n",
    "plt.show()\n"
   ]
  },
  {
   "cell_type": "markdown",
   "id": "8ddd58d7",
   "metadata": {},
   "source": [
    "There is a positive correlation between y and price. This means that as y of a diamond increases, the price tends to increase as well."
   ]
  },
  {
   "cell_type": "code",
   "execution_count": 20,
   "id": "e1838ccf",
   "metadata": {},
   "outputs": [
    {
     "data": {
      "image/png": "[encoded data removed]",
      "text/plain": [
       "<Figure size 640x480 with 1 Axes>"
      ]
     },
     "metadata": {},
     "output_type": "display_data"
    }
   ],
   "source": [
    "z = df['z']\n",
    "price = df['price']\n",
    "# Create scatter plot\n",
    "plt.scatter(z, price)\n",
    "plt.xlabel('z')\n",
    "plt.ylabel('Price')\n",
    "plt.title('Diamond Price vs z')\n",
    "plt.xlim(0, 8)\n",
    "plt.show()"
   ]
  },
  {
   "cell_type": "markdown",
   "id": "8e625049",
   "metadata": {},
   "source": [
    "There is a positive correlation between z and price. This means that as z of a diamond increases, the price tends to increase as well."
   ]
  },
  {
   "cell_type": "code",
   "execution_count": 21,
   "id": "e7c7bec9",
   "metadata": {},
   "outputs": [
    {
     "data": {
      "image/png": "[encoded data removed]",
      "text/plain": [
       "<Figure size 640x480 with 1 Axes>"
      ]
     },
     "metadata": {},
     "output_type": "display_data"
    }
   ],
   "source": [
    "carat = df['depth']\n",
    "price = df['price']\n",
    "\n",
    "# Create scatter plot\n",
    "plt.scatter(carat, price)\n",
    "plt.xlabel('Depth')\n",
    "plt.ylabel('Price')\n",
    "plt.title('Diamond Price vs Depth')\n",
    "\n",
    "\n",
    "plt.show()"
   ]
  },
  {
   "cell_type": "code",
   "execution_count": 22,
   "id": "d9226975",
   "metadata": {},
   "outputs": [
    {
     "data": {
      "image/png": "[encoded data removed]",
      "text/plain": [
       "<Figure size 640x480 with 1 Axes>"
      ]
     },
     "metadata": {},
     "output_type": "display_data"
    }
   ],
   "source": [
    "table = df['table']\n",
    "price = df['price']\n",
    "# Create scatter plot\n",
    "plt.scatter(table, price)\n",
    "plt.xlabel('table')\n",
    "plt.ylabel('Price')\n",
    "plt.title('Diamond Price vs Table')\n",
    "plt.show()"
   ]
  },
  {
   "cell_type": "code",
   "execution_count": 23,
   "id": "a9fcdd45",
   "metadata": {},
   "outputs": [
    {
     "data": {
      "image/png": "[encoded data removed]",
      "text/plain": [
       "<Figure size 640x480 with 1 Axes>"
      ]
     },
     "metadata": {},
     "output_type": "display_data"
    },
    {
     "data": {
      "image/png": "[encoded data removed]",
      "text/plain": [
       "<Figure size 640x480 with 1 Axes>"
      ]
     },
     "metadata": {},
     "output_type": "display_data"
    },
    {
     "data": {
      "image/png": "[encoded data removed]",
      "text/plain": [
       "<Figure size 640x480 with 1 Axes>"
      ]
     },
     "metadata": {},
     "output_type": "display_data"
    }
   ],
   "source": [
    "#Box plot for continuos predictors and tager variables:\n",
    "for col in df.select_dtypes(include='object'):\n",
    "    sns.boxplot(x=df['price'],y=df[col])\n",
    "    plt.show()"
   ]
  },
  {
   "cell_type": "markdown",
   "id": "78f99ab1",
   "metadata": {},
   "source": [
    "# Outliers"
   ]
  },
  {
   "cell_type": "code",
   "execution_count": 24,
   "id": "917b8c50",
   "metadata": {},
   "outputs": [
    {
     "data": {
      "image/png": "[encoded data removed]",
      "text/plain": [
       "<Figure size 2000x1000 with 9 Axes>"
      ]
     },
     "metadata": {},
     "output_type": "display_data"
    }
   ],
   "source": [
    "#checking for outliers\n",
    "\n",
    "df.hist(figsize=(20,10), bins = 30, edgecolor = 'black')\n",
    "plt.show()"
   ]
  },
  {
   "cell_type": "code",
   "execution_count": 25,
   "id": "b761cb4a",
   "metadata": {},
   "outputs": [
    {
     "data": {
      "text/plain": [
       "carat       0.797780\n",
       "depth      61.748080\n",
       "table      57.458109\n",
       "price    3933.065082\n",
       "x           5.731214\n",
       "y           5.734653\n",
       "z           3.538714\n",
       "dtype: float64"
      ]
     },
     "execution_count": 25,
     "metadata": {},
     "output_type": "execute_result"
    }
   ],
   "source": [
    "df.mean()"
   ]
  },
  {
   "cell_type": "code",
   "execution_count": 26,
   "id": "a4b4ce9e",
   "metadata": {},
   "outputs": [
    {
     "data": {
      "text/plain": [
       "carat       0.70\n",
       "depth      61.80\n",
       "table      57.00\n",
       "price    2401.00\n",
       "x           5.70\n",
       "y           5.71\n",
       "z           3.53\n",
       "dtype: float64"
      ]
     },
     "execution_count": 26,
     "metadata": {},
     "output_type": "execute_result"
    }
   ],
   "source": [
    "df.median()"
   ]
  },
  {
   "cell_type": "markdown",
   "id": "2ed4447c",
   "metadata": {},
   "source": [
    "We can see price column has outliers."
   ]
  },
  {
   "cell_type": "code",
   "execution_count": 27,
   "id": "9ca3b84f",
   "metadata": {},
   "outputs": [],
   "source": [
    "#Removing outliers\n",
    "\n",
    "#removing outliers with IQR \n",
    "\n",
    "q1 = np.quantile(df.price, 0.25) #1st quantile\n",
    "q2 = np.quantile(df.price, 0.5) #2nd quantile\n",
    "q3 = np.quantile(df.price, 0.75) #3rd quantile\n",
    "IQR = q3 - q1 #Inter - Quartile Range"
   ]
  },
  {
   "cell_type": "code",
   "execution_count": 28,
   "id": "b0e4aebf",
   "metadata": {},
   "outputs": [],
   "source": [
    "#setting the fences on our dataset to identify the outliers\n",
    "\n",
    "lower = q1 - (1.5*IQR) #lower whisker\n",
    "upper = q3 + (1.5*IQR) #upper whisker"
   ]
  },
  {
   "cell_type": "code",
   "execution_count": 29,
   "id": "b62821b6",
   "metadata": {},
   "outputs": [],
   "source": [
    "#removal of lower and upper outliers in our data\n",
    "\n",
    "df = df[~((df.price > upper) | (df.price < lower))]\n"
   ]
  },
  {
   "cell_type": "code",
   "execution_count": 30,
   "id": "9af31687",
   "metadata": {},
   "outputs": [
    {
     "data": {
      "text/plain": [
       "(50271, 10)"
      ]
     },
     "execution_count": 30,
     "metadata": {},
     "output_type": "execute_result"
    }
   ],
   "source": [
    "df.shape"
   ]
  },
  {
   "cell_type": "markdown",
   "id": "75ef67d0",
   "metadata": {},
   "source": [
    "We now have 50271 rows and 10 columns"
   ]
  },
  {
   "cell_type": "markdown",
   "id": "c4fe1596",
   "metadata": {},
   "source": [
    "# Missing values"
   ]
  },
  {
   "cell_type": "code",
   "execution_count": 31,
   "id": "1058ce2c",
   "metadata": {},
   "outputs": [
    {
     "name": "stdout",
     "output_type": "stream",
     "text": [
      " Number of empty cells in carat is 0 \n",
      " Number of empty cells in cut is 0 \n",
      " Number of empty cells in color is 0 \n",
      " Number of empty cells in clarity is 0 \n",
      " Number of empty cells in depth is 0 \n",
      " Number of empty cells in table is 0 \n",
      " Number of empty cells in price is 0 \n",
      " Number of empty cells in x is 0 \n",
      " Number of empty cells in y is 0 \n",
      " Number of empty cells in z is 0 \n"
     ]
    }
   ],
   "source": [
    "#to see if any columns has empty cells\n",
    "\n",
    "for column in df:\n",
    "    print(\" Number of empty cells in {} is {} \". format(column, (df[column]==\"\").sum()))"
   ]
  },
  {
   "cell_type": "code",
   "execution_count": 32,
   "id": "ac1f7926",
   "metadata": {},
   "outputs": [
    {
     "name": "stdout",
     "output_type": "stream",
     "text": [
      "Number of zeros in carat is 0\n",
      "Number of zeros in cut is 0\n",
      "Number of zeros in color is 0\n",
      "Number of zeros in clarity is 0\n",
      "Number of zeros in depth is 0\n",
      "Number of zeros in table is 0\n",
      "Number of zeros in price is 0\n",
      "Number of zeros in x is 4\n",
      "Number of zeros in y is 3\n",
      "Number of zeros in z is 11\n"
     ]
    }
   ],
   "source": [
    "#finding the number of zeros in each column\n",
    "\n",
    "for column in df:\n",
    "    print((\"Number of zeros in {} is {}\".format(column,(df[column]==0).sum())))"
   ]
  },
  {
   "cell_type": "markdown",
   "id": "7d8fe757",
   "metadata": {},
   "source": [
    "From the above table also we see that x (length), y(breadth) and z(depth) have zero as these minimum value. So we need to remove these entries with 0s using the code below. Good news is that there are no empty cells."
   ]
  },
  {
   "cell_type": "code",
   "execution_count": 33,
   "id": "fed71be8",
   "metadata": {},
   "outputs": [],
   "source": [
    "#dropping all zero values from x,y and z columns\n",
    "df = df[(df[['x','y','z']] != 0).all(axis=1)]"
   ]
  },
  {
   "cell_type": "code",
   "execution_count": 34,
   "id": "ca7f7994",
   "metadata": {},
   "outputs": [
    {
     "data": {
      "text/html": [
       "<div>\n",
       "<style scoped>\n",
       "    .dataframe tbody tr th:only-of-type {\n",
       "        vertical-align: middle;\n",
       "    }\n",
       "\n",
       "    .dataframe tbody tr th {\n",
       "        vertical-align: top;\n",
       "    }\n",
       "\n",
       "    .dataframe thead th {\n",
       "        text-align: right;\n",
       "    }\n",
       "</style>\n",
       "<table border=\"1\" class=\"dataframe\">\n",
       "  <thead>\n",
       "    <tr style=\"text-align: right;\">\n",
       "      <th></th>\n",
       "      <th>carat</th>\n",
       "      <th>depth</th>\n",
       "      <th>table</th>\n",
       "      <th>price</th>\n",
       "      <th>x</th>\n",
       "      <th>y</th>\n",
       "      <th>z</th>\n",
       "    </tr>\n",
       "  </thead>\n",
       "  <tbody>\n",
       "    <tr>\n",
       "      <th>count</th>\n",
       "      <td>50260.000000</td>\n",
       "      <td>50260.000000</td>\n",
       "      <td>50260.000000</td>\n",
       "      <td>50260.000000</td>\n",
       "      <td>50260.000000</td>\n",
       "      <td>50260.000000</td>\n",
       "      <td>50260.000000</td>\n",
       "    </tr>\n",
       "    <tr>\n",
       "      <th>mean</th>\n",
       "      <td>0.723668</td>\n",
       "      <td>61.754640</td>\n",
       "      <td>57.422531</td>\n",
       "      <td>3161.074055</td>\n",
       "      <td>5.583745</td>\n",
       "      <td>5.586968</td>\n",
       "      <td>3.449377</td>\n",
       "    </tr>\n",
       "    <tr>\n",
       "      <th>std</th>\n",
       "      <td>0.383513</td>\n",
       "      <td>1.427651</td>\n",
       "      <td>2.228079</td>\n",
       "      <td>2765.779340</td>\n",
       "      <td>0.992945</td>\n",
       "      <td>0.992362</td>\n",
       "      <td>0.628034</td>\n",
       "    </tr>\n",
       "    <tr>\n",
       "      <th>min</th>\n",
       "      <td>0.200000</td>\n",
       "      <td>43.000000</td>\n",
       "      <td>43.000000</td>\n",
       "      <td>326.000000</td>\n",
       "      <td>3.730000</td>\n",
       "      <td>3.680000</td>\n",
       "      <td>1.070000</td>\n",
       "    </tr>\n",
       "    <tr>\n",
       "      <th>25%</th>\n",
       "      <td>0.380000</td>\n",
       "      <td>61.100000</td>\n",
       "      <td>56.000000</td>\n",
       "      <td>911.000000</td>\n",
       "      <td>4.670000</td>\n",
       "      <td>4.680000</td>\n",
       "      <td>2.880000</td>\n",
       "    </tr>\n",
       "    <tr>\n",
       "      <th>50%</th>\n",
       "      <td>0.700000</td>\n",
       "      <td>61.800000</td>\n",
       "      <td>57.000000</td>\n",
       "      <td>2157.500000</td>\n",
       "      <td>5.590000</td>\n",
       "      <td>5.580000</td>\n",
       "      <td>3.430000</td>\n",
       "    </tr>\n",
       "    <tr>\n",
       "      <th>75%</th>\n",
       "      <td>1.010000</td>\n",
       "      <td>62.500000</td>\n",
       "      <td>59.000000</td>\n",
       "      <td>4670.000000</td>\n",
       "      <td>6.430000</td>\n",
       "      <td>6.420000</td>\n",
       "      <td>3.980000</td>\n",
       "    </tr>\n",
       "    <tr>\n",
       "      <th>max</th>\n",
       "      <td>3.650000</td>\n",
       "      <td>79.000000</td>\n",
       "      <td>79.000000</td>\n",
       "      <td>11888.000000</td>\n",
       "      <td>9.540000</td>\n",
       "      <td>31.800000</td>\n",
       "      <td>31.800000</td>\n",
       "    </tr>\n",
       "  </tbody>\n",
       "</table>\n",
       "</div>"
      ],
      "text/plain": [
       "              carat         depth         table         price             x  \\\n",
       "count  50260.000000  50260.000000  50260.000000  50260.000000  50260.000000   \n",
       "mean       0.723668     61.754640     57.422531   3161.074055      5.583745   \n",
       "std        0.383513      1.427651      2.228079   2765.779340      0.992945   \n",
       "min        0.200000     43.000000     43.000000    326.000000      3.730000   \n",
       "25%        0.380000     61.100000     56.000000    911.000000      4.670000   \n",
       "50%        0.700000     61.800000     57.000000   2157.500000      5.590000   \n",
       "75%        1.010000     62.500000     59.000000   4670.000000      6.430000   \n",
       "max        3.650000     79.000000     79.000000  11888.000000      9.540000   \n",
       "\n",
       "                  y             z  \n",
       "count  50260.000000  50260.000000  \n",
       "mean       5.586968      3.449377  \n",
       "std        0.992362      0.628034  \n",
       "min        3.680000      1.070000  \n",
       "25%        4.680000      2.880000  \n",
       "50%        5.580000      3.430000  \n",
       "75%        6.420000      3.980000  \n",
       "max       31.800000     31.800000  "
      ]
     },
     "execution_count": 34,
     "metadata": {},
     "output_type": "execute_result"
    }
   ],
   "source": [
    "#to check the minimum values of x,y and z\n",
    "df.describe()"
   ]
  },
  {
   "cell_type": "code",
   "execution_count": 35,
   "id": "abf6f5ac",
   "metadata": {},
   "outputs": [
    {
     "data": {
      "text/plain": [
       "(50260, 10)"
      ]
     },
     "execution_count": 35,
     "metadata": {},
     "output_type": "execute_result"
    }
   ],
   "source": [
    "df.shape"
   ]
  },
  {
   "cell_type": "markdown",
   "id": "ed089924",
   "metadata": {},
   "source": [
    "We have dropped 11 rows"
   ]
  },
  {
   "cell_type": "markdown",
   "id": "db449143",
   "metadata": {},
   "source": [
    "# Encoding categorical variables using Ordinal Encoding"
   ]
  },
  {
   "cell_type": "markdown",
   "id": "105bdcf2",
   "metadata": {},
   "source": [
    "As we know, in our dataset, the columns cut, clarity and colour have non numerical entries. These features or predictors are called as categorical variables as they put the variable entries in various categories. Like in our example, predictor cut has various categories like Ideal, Premium and Good. To deal with categorical entries, techniques like one hot encoding, dummy coding, label encoding etc can be used. In this implementation, built in methods are not used. Instead, the categories in the categorical variables are replaced by the numeric value as per the category significance. This is shown in the code below-"
   ]
  },
  {
   "cell_type": "code",
   "execution_count": 36,
   "id": "6b92420e",
   "metadata": {},
   "outputs": [
    {
     "data": {
      "text/html": [
       "<div>\n",
       "<style scoped>\n",
       "    .dataframe tbody tr th:only-of-type {\n",
       "        vertical-align: middle;\n",
       "    }\n",
       "\n",
       "    .dataframe tbody tr th {\n",
       "        vertical-align: top;\n",
       "    }\n",
       "\n",
       "    .dataframe thead th {\n",
       "        text-align: right;\n",
       "    }\n",
       "</style>\n",
       "<table border=\"1\" class=\"dataframe\">\n",
       "  <thead>\n",
       "    <tr style=\"text-align: right;\">\n",
       "      <th></th>\n",
       "      <th>carat</th>\n",
       "      <th>cut</th>\n",
       "      <th>color</th>\n",
       "      <th>clarity</th>\n",
       "      <th>depth</th>\n",
       "      <th>table</th>\n",
       "      <th>price</th>\n",
       "      <th>x</th>\n",
       "      <th>y</th>\n",
       "      <th>z</th>\n",
       "    </tr>\n",
       "  </thead>\n",
       "  <tbody>\n",
       "    <tr>\n",
       "      <th>0</th>\n",
       "      <td>0.23</td>\n",
       "      <td>4</td>\n",
       "      <td>5</td>\n",
       "      <td>2</td>\n",
       "      <td>61.5</td>\n",
       "      <td>55.0</td>\n",
       "      <td>326</td>\n",
       "      <td>3.95</td>\n",
       "      <td>3.98</td>\n",
       "      <td>2.43</td>\n",
       "    </tr>\n",
       "    <tr>\n",
       "      <th>1</th>\n",
       "      <td>0.21</td>\n",
       "      <td>3</td>\n",
       "      <td>5</td>\n",
       "      <td>3</td>\n",
       "      <td>59.8</td>\n",
       "      <td>61.0</td>\n",
       "      <td>326</td>\n",
       "      <td>3.89</td>\n",
       "      <td>3.84</td>\n",
       "      <td>2.31</td>\n",
       "    </tr>\n",
       "    <tr>\n",
       "      <th>2</th>\n",
       "      <td>0.23</td>\n",
       "      <td>1</td>\n",
       "      <td>5</td>\n",
       "      <td>5</td>\n",
       "      <td>56.9</td>\n",
       "      <td>65.0</td>\n",
       "      <td>327</td>\n",
       "      <td>4.05</td>\n",
       "      <td>4.07</td>\n",
       "      <td>2.31</td>\n",
       "    </tr>\n",
       "    <tr>\n",
       "      <th>3</th>\n",
       "      <td>0.29</td>\n",
       "      <td>3</td>\n",
       "      <td>1</td>\n",
       "      <td>4</td>\n",
       "      <td>62.4</td>\n",
       "      <td>58.0</td>\n",
       "      <td>334</td>\n",
       "      <td>4.20</td>\n",
       "      <td>4.23</td>\n",
       "      <td>2.63</td>\n",
       "    </tr>\n",
       "    <tr>\n",
       "      <th>4</th>\n",
       "      <td>0.31</td>\n",
       "      <td>1</td>\n",
       "      <td>0</td>\n",
       "      <td>2</td>\n",
       "      <td>63.3</td>\n",
       "      <td>58.0</td>\n",
       "      <td>335</td>\n",
       "      <td>4.34</td>\n",
       "      <td>4.35</td>\n",
       "      <td>2.75</td>\n",
       "    </tr>\n",
       "  </tbody>\n",
       "</table>\n",
       "</div>"
      ],
      "text/plain": [
       "   carat  cut  color  clarity  depth  table  price     x     y     z\n",
       "0   0.23    4      5        2   61.5   55.0    326  3.95  3.98  2.43\n",
       "1   0.21    3      5        3   59.8   61.0    326  3.89  3.84  2.31\n",
       "2   0.23    1      5        5   56.9   65.0    327  4.05  4.07  2.31\n",
       "3   0.29    3      1        4   62.4   58.0    334  4.20  4.23  2.63\n",
       "4   0.31    1      0        2   63.3   58.0    335  4.34  4.35  2.75"
      ]
     },
     "execution_count": 36,
     "metadata": {},
     "output_type": "execute_result"
    }
   ],
   "source": [
    "#Replacing the categorical value colour, cut and clarity without using built in function for categorical data\n",
    "df=df.replace({'color' : { 'D' : 6, 'E' : 5, 'F' : 4, 'G' : 3, 'H': 2, 'I':1, 'J':0}})\n",
    "df=df.replace({'cut': {'Ideal':4, 'Premium': 3, 'Very Good':2, 'Good':1, 'Fair':0}})\n",
    "df=df.replace({'clarity': {\"IF\": 8, 'VVS1' :7, 'VVS2': 6, 'VS1': 5, 'VS2': 4, 'SI1':3, 'SI2': 2, 'I1':1, 'I2':0, 'I3':0}})\n",
    "#Visualize the data frame\n",
    "df.head()"
   ]
  },
  {
   "cell_type": "markdown",
   "id": "1b320a88",
   "metadata": {},
   "source": [
    "# Multicollinearity"
   ]
  },
  {
   "cell_type": "markdown",
   "id": "aa3a217b",
   "metadata": {},
   "source": [
    "Checking for multicollinearity among the independent variables and also identifying non contributing independent variable\n",
    "Before we proceed ahead with the regression, it is very important to check for existence of multicollinearity among the independent variable. That ascertaining whether the change in one variable brings about the change in another independent variable also. If that is the case, we should remove one of the variables from the predictor variable list to make the model more accurate. Moreover, we also need to check if all the independent variables in consideration are actually contributing to the change in dependent variable. Removing any such non-contributing independent variable can aid in reducing the Mean Square Error (MSE)."
   ]
  },
  {
   "cell_type": "code",
   "execution_count": 37,
   "id": "23fed0c1",
   "metadata": {},
   "outputs": [
    {
     "data": {
      "image/png": "[encoded data removed]",
      "text/plain": [
       "<Figure size 1000x800 with 2 Axes>"
      ]
     },
     "metadata": {},
     "output_type": "display_data"
    }
   ],
   "source": [
    "# Create a correlation matrix between every pair of attributes\n",
    "corr_matrix = df.corr()\n",
    "\n",
    "# Plot the correlation with seaborn\n",
    "plt.subplots(figsize = (10, 8))\n",
    "sns.heatmap(corr_matrix, annot = True)\n",
    "plt.show()"
   ]
  },
  {
   "cell_type": "code",
   "execution_count": 38,
   "id": "304dcbd3",
   "metadata": {},
   "outputs": [
    {
     "data": {
      "text/html": [
       "<div>\n",
       "<style scoped>\n",
       "    .dataframe tbody tr th:only-of-type {\n",
       "        vertical-align: middle;\n",
       "    }\n",
       "\n",
       "    .dataframe tbody tr th {\n",
       "        vertical-align: top;\n",
       "    }\n",
       "\n",
       "    .dataframe thead th {\n",
       "        text-align: right;\n",
       "    }\n",
       "</style>\n",
       "<table border=\"1\" class=\"dataframe\">\n",
       "  <thead>\n",
       "    <tr style=\"text-align: right;\">\n",
       "      <th></th>\n",
       "      <th>vif</th>\n",
       "    </tr>\n",
       "  </thead>\n",
       "  <tbody>\n",
       "    <tr>\n",
       "      <th>const</th>\n",
       "      <td>7481.034796</td>\n",
       "    </tr>\n",
       "    <tr>\n",
       "      <th>carat</th>\n",
       "      <td>46.457084</td>\n",
       "    </tr>\n",
       "    <tr>\n",
       "      <th>cut</th>\n",
       "      <td>1.511502</td>\n",
       "    </tr>\n",
       "    <tr>\n",
       "      <th>color</th>\n",
       "      <td>1.321805</td>\n",
       "    </tr>\n",
       "    <tr>\n",
       "      <th>clarity</th>\n",
       "      <td>1.807534</td>\n",
       "    </tr>\n",
       "    <tr>\n",
       "      <th>depth</th>\n",
       "      <td>1.836547</td>\n",
       "    </tr>\n",
       "    <tr>\n",
       "      <th>table</th>\n",
       "      <td>1.592677</td>\n",
       "    </tr>\n",
       "    <tr>\n",
       "      <th>price</th>\n",
       "      <td>10.129370</td>\n",
       "    </tr>\n",
       "    <tr>\n",
       "      <th>x</th>\n",
       "      <td>101.264460</td>\n",
       "    </tr>\n",
       "    <tr>\n",
       "      <th>y</th>\n",
       "      <td>58.096823</td>\n",
       "    </tr>\n",
       "    <tr>\n",
       "      <th>z</th>\n",
       "      <td>22.567848</td>\n",
       "    </tr>\n",
       "  </tbody>\n",
       "</table>\n",
       "</div>"
      ],
      "text/plain": [
       "                 vif\n",
       "const    7481.034796\n",
       "carat      46.457084\n",
       "cut         1.511502\n",
       "color       1.321805\n",
       "clarity     1.807534\n",
       "depth       1.836547\n",
       "table       1.592677\n",
       "price      10.129370\n",
       "x         101.264460\n",
       "y          58.096823\n",
       "z          22.567848"
      ]
     },
     "execution_count": 38,
     "metadata": {},
     "output_type": "execute_result"
    }
   ],
   "source": [
    "numeric_df = df.select_dtypes(include=[np.number])\n",
    "numeric_df = sm.add_constant(numeric_df)\n",
    "\n",
    "from statsmodels.stats.outliers_influence import variance_inflation_factor as vif\n",
    "vif = [vif(numeric_df, i) for i in range(numeric_df.shape[1])]\n",
    "\n",
    "pd.DataFrame(vif, index=numeric_df.columns, columns=['vif'])"
   ]
  },
  {
   "cell_type": "code",
   "execution_count": 39,
   "id": "777956f1",
   "metadata": {},
   "outputs": [],
   "source": [
    "def calculate_vif(df):\n",
    "    # Select only the numeric columns\n",
    "    numeric_df = df.select_dtypes(include=[np.number])\n",
    "    numeric_df = sm.add_constant(numeric_df)\n",
    "    # Calculate VIF values\n",
    "    vif = np.zeros(numeric_df.shape[1])\n",
    "    for i in range(numeric_df.shape[1]):\n",
    "        # extracting the label in loop\n",
    "        y = numeric_df.iloc[:, i]\n",
    "        # extracting the all features which is not label\n",
    "        x = numeric_df.iloc[:, np.arange(numeric_df.shape[1]) != i]\n",
    "        # fit the  model\n",
    "        model = LinearRegression().fit(x, y)\n",
    "        # claculate the R_2\n",
    "        r_squared = model.score(x, y)\n",
    "        # calculating VIF\n",
    "        vif[i] = 1 / (1 - r_squared)\n",
    "\n",
    "    # Create a DataFrame to store the VIF values\n",
    "    vif_df = pd.DataFrame({\n",
    "        \"features\": numeric_df.columns,\n",
    "        \"VIF\": vif\n",
    "    })\n",
    "\n",
    "    return vif_df"
   ]
  },
  {
   "cell_type": "code",
   "execution_count": 40,
   "id": "4278ddfb",
   "metadata": {},
   "outputs": [
    {
     "data": {
      "text/html": [
       "<div>\n",
       "<style scoped>\n",
       "    .dataframe tbody tr th:only-of-type {\n",
       "        vertical-align: middle;\n",
       "    }\n",
       "\n",
       "    .dataframe tbody tr th {\n",
       "        vertical-align: top;\n",
       "    }\n",
       "\n",
       "    .dataframe thead th {\n",
       "        text-align: right;\n",
       "    }\n",
       "</style>\n",
       "<table border=\"1\" class=\"dataframe\">\n",
       "  <thead>\n",
       "    <tr style=\"text-align: right;\">\n",
       "      <th></th>\n",
       "      <th>features</th>\n",
       "      <th>VIF</th>\n",
       "    </tr>\n",
       "  </thead>\n",
       "  <tbody>\n",
       "    <tr>\n",
       "      <th>0</th>\n",
       "      <td>const</td>\n",
       "      <td>inf</td>\n",
       "    </tr>\n",
       "    <tr>\n",
       "      <th>1</th>\n",
       "      <td>carat</td>\n",
       "      <td>46.457084</td>\n",
       "    </tr>\n",
       "    <tr>\n",
       "      <th>2</th>\n",
       "      <td>cut</td>\n",
       "      <td>1.511502</td>\n",
       "    </tr>\n",
       "    <tr>\n",
       "      <th>3</th>\n",
       "      <td>color</td>\n",
       "      <td>1.321805</td>\n",
       "    </tr>\n",
       "    <tr>\n",
       "      <th>4</th>\n",
       "      <td>clarity</td>\n",
       "      <td>1.807534</td>\n",
       "    </tr>\n",
       "    <tr>\n",
       "      <th>5</th>\n",
       "      <td>depth</td>\n",
       "      <td>1.836547</td>\n",
       "    </tr>\n",
       "    <tr>\n",
       "      <th>6</th>\n",
       "      <td>table</td>\n",
       "      <td>1.592677</td>\n",
       "    </tr>\n",
       "    <tr>\n",
       "      <th>7</th>\n",
       "      <td>price</td>\n",
       "      <td>10.129370</td>\n",
       "    </tr>\n",
       "    <tr>\n",
       "      <th>8</th>\n",
       "      <td>x</td>\n",
       "      <td>101.264460</td>\n",
       "    </tr>\n",
       "    <tr>\n",
       "      <th>9</th>\n",
       "      <td>y</td>\n",
       "      <td>58.096823</td>\n",
       "    </tr>\n",
       "    <tr>\n",
       "      <th>10</th>\n",
       "      <td>z</td>\n",
       "      <td>22.567848</td>\n",
       "    </tr>\n",
       "  </tbody>\n",
       "</table>\n",
       "</div>"
      ],
      "text/plain": [
       "   features         VIF\n",
       "0     const         inf\n",
       "1     carat   46.457084\n",
       "2       cut    1.511502\n",
       "3     color    1.321805\n",
       "4   clarity    1.807534\n",
       "5     depth    1.836547\n",
       "6     table    1.592677\n",
       "7     price   10.129370\n",
       "8         x  101.264460\n",
       "9         y   58.096823\n",
       "10        z   22.567848"
      ]
     },
     "execution_count": 40,
     "metadata": {},
     "output_type": "execute_result"
    }
   ],
   "source": [
    "calculate_vif(df)"
   ]
  },
  {
   "cell_type": "markdown",
   "id": "6b337a24",
   "metadata": {},
   "source": [
    "Now, we know that variable, x, y and z are length, height and depth respective. Product of these variables can give one single variable “volume”. We can use the following code to implement the same.\n",
    "Now, we know that variable, x, y and z are length, height and depth respective. Product of these variables can give one single variable “volume”. We can use the following code to implement the same."
   ]
  },
  {
   "cell_type": "code",
   "execution_count": 41,
   "id": "e8d5aabe",
   "metadata": {},
   "outputs": [
    {
     "data": {
      "text/html": [
       "<div>\n",
       "<style scoped>\n",
       "    .dataframe tbody tr th:only-of-type {\n",
       "        vertical-align: middle;\n",
       "    }\n",
       "\n",
       "    .dataframe tbody tr th {\n",
       "        vertical-align: top;\n",
       "    }\n",
       "\n",
       "    .dataframe thead th {\n",
       "        text-align: right;\n",
       "    }\n",
       "</style>\n",
       "<table border=\"1\" class=\"dataframe\">\n",
       "  <thead>\n",
       "    <tr style=\"text-align: right;\">\n",
       "      <th></th>\n",
       "      <th>carat</th>\n",
       "      <th>cut</th>\n",
       "      <th>color</th>\n",
       "      <th>clarity</th>\n",
       "      <th>depth</th>\n",
       "      <th>table</th>\n",
       "      <th>price</th>\n",
       "      <th>volume</th>\n",
       "    </tr>\n",
       "  </thead>\n",
       "  <tbody>\n",
       "    <tr>\n",
       "      <th>0</th>\n",
       "      <td>0.23</td>\n",
       "      <td>4</td>\n",
       "      <td>5</td>\n",
       "      <td>2</td>\n",
       "      <td>61.5</td>\n",
       "      <td>55.0</td>\n",
       "      <td>326</td>\n",
       "      <td>38.202030</td>\n",
       "    </tr>\n",
       "    <tr>\n",
       "      <th>1</th>\n",
       "      <td>0.21</td>\n",
       "      <td>3</td>\n",
       "      <td>5</td>\n",
       "      <td>3</td>\n",
       "      <td>59.8</td>\n",
       "      <td>61.0</td>\n",
       "      <td>326</td>\n",
       "      <td>34.505856</td>\n",
       "    </tr>\n",
       "    <tr>\n",
       "      <th>2</th>\n",
       "      <td>0.23</td>\n",
       "      <td>1</td>\n",
       "      <td>5</td>\n",
       "      <td>5</td>\n",
       "      <td>56.9</td>\n",
       "      <td>65.0</td>\n",
       "      <td>327</td>\n",
       "      <td>38.076885</td>\n",
       "    </tr>\n",
       "    <tr>\n",
       "      <th>3</th>\n",
       "      <td>0.29</td>\n",
       "      <td>3</td>\n",
       "      <td>1</td>\n",
       "      <td>4</td>\n",
       "      <td>62.4</td>\n",
       "      <td>58.0</td>\n",
       "      <td>334</td>\n",
       "      <td>46.724580</td>\n",
       "    </tr>\n",
       "    <tr>\n",
       "      <th>4</th>\n",
       "      <td>0.31</td>\n",
       "      <td>1</td>\n",
       "      <td>0</td>\n",
       "      <td>2</td>\n",
       "      <td>63.3</td>\n",
       "      <td>58.0</td>\n",
       "      <td>335</td>\n",
       "      <td>51.917250</td>\n",
       "    </tr>\n",
       "  </tbody>\n",
       "</table>\n",
       "</div>"
      ],
      "text/plain": [
       "   carat  cut  color  clarity  depth  table  price     volume\n",
       "0   0.23    4      5        2   61.5   55.0    326  38.202030\n",
       "1   0.21    3      5        3   59.8   61.0    326  34.505856\n",
       "2   0.23    1      5        5   56.9   65.0    327  38.076885\n",
       "3   0.29    3      1        4   62.4   58.0    334  46.724580\n",
       "4   0.31    1      0        2   63.3   58.0    335  51.917250"
      ]
     },
     "execution_count": 41,
     "metadata": {},
     "output_type": "execute_result"
    }
   ],
   "source": [
    "#Reducing three variables x, y, z to a single variable\n",
    "df['volume']= df['x']*df['y']*df[\"z\"] \n",
    "#now we can drop x,y,z columns\n",
    "df=df.drop(['x','y','z'], axis=1)\n",
    "#Visualizing the data frame to see the change\n",
    "df.head()"
   ]
  },
  {
   "cell_type": "code",
   "execution_count": 42,
   "id": "147dd71a",
   "metadata": {},
   "outputs": [
    {
     "data": {
      "text/plain": [
       "<AxesSubplot:>"
      ]
     },
     "execution_count": 42,
     "metadata": {},
     "output_type": "execute_result"
    },
    {
     "data": {
      "image/png": "[encoded data removed]",
      "text/plain": [
       "<Figure size 1500x800 with 2 Axes>"
      ]
     },
     "metadata": {},
     "output_type": "display_data"
    }
   ],
   "source": [
    "#Plot heat map to see the correlation among the variables\n",
    "corr = df.corr()\n",
    "plt.figure(figsize = (15,8)) #To set the figure size\n",
    "sns.heatmap(data=corr, square=True , annot=True, cbar=True)"
   ]
  },
  {
   "cell_type": "code",
   "execution_count": 43,
   "id": "af3b3a72",
   "metadata": {},
   "outputs": [],
   "source": [
    "def calculate_vif(df):\n",
    "    # Select only the numeric columns\n",
    "    numeric_df = df.select_dtypes(include=[np.number])\n",
    "    numeric_df = sm.add_constant(numeric_df)\n",
    "    # Calculate VIF values\n",
    "    vif = np.zeros(numeric_df.shape[1])\n",
    "    for i in range(numeric_df.shape[1]):\n",
    "        # extracting the label in loop\n",
    "        y = numeric_df.iloc[:, i]\n",
    "        # extracting the all features which is not label\n",
    "        x = numeric_df.iloc[:, np.arange(numeric_df.shape[1]) != i]\n",
    "        # fit the  model\n",
    "        model = LinearRegression().fit(x, y)\n",
    "        # claculate the R_2\n",
    "        r_squared = model.score(x, y)\n",
    "        # calculating VIF\n",
    "        vif[i] = 1 / (1 - r_squared)\n",
    "\n",
    "    # Create a DataFrame to store the VIF values\n",
    "    vif_df = pd.DataFrame({\n",
    "        \"features\": numeric_df.columns,\n",
    "        \"VIF\": vif\n",
    "    })\n",
    "\n",
    "    return vif_df"
   ]
  },
  {
   "cell_type": "code",
   "execution_count": 44,
   "id": "ffa0b922",
   "metadata": {},
   "outputs": [
    {
     "data": {
      "text/html": [
       "<div>\n",
       "<style scoped>\n",
       "    .dataframe tbody tr th:only-of-type {\n",
       "        vertical-align: middle;\n",
       "    }\n",
       "\n",
       "    .dataframe tbody tr th {\n",
       "        vertical-align: top;\n",
       "    }\n",
       "\n",
       "    .dataframe thead th {\n",
       "        text-align: right;\n",
       "    }\n",
       "</style>\n",
       "<table border=\"1\" class=\"dataframe\">\n",
       "  <thead>\n",
       "    <tr style=\"text-align: right;\">\n",
       "      <th></th>\n",
       "      <th>features</th>\n",
       "      <th>VIF</th>\n",
       "    </tr>\n",
       "  </thead>\n",
       "  <tbody>\n",
       "    <tr>\n",
       "      <th>0</th>\n",
       "      <td>const</td>\n",
       "      <td>inf</td>\n",
       "    </tr>\n",
       "    <tr>\n",
       "      <th>1</th>\n",
       "      <td>carat</td>\n",
       "      <td>138.723395</td>\n",
       "    </tr>\n",
       "    <tr>\n",
       "      <th>2</th>\n",
       "      <td>cut</td>\n",
       "      <td>1.508195</td>\n",
       "    </tr>\n",
       "    <tr>\n",
       "      <th>3</th>\n",
       "      <td>color</td>\n",
       "      <td>1.312728</td>\n",
       "    </tr>\n",
       "    <tr>\n",
       "      <th>4</th>\n",
       "      <td>clarity</td>\n",
       "      <td>1.794231</td>\n",
       "    </tr>\n",
       "    <tr>\n",
       "      <th>5</th>\n",
       "      <td>depth</td>\n",
       "      <td>1.403809</td>\n",
       "    </tr>\n",
       "    <tr>\n",
       "      <th>6</th>\n",
       "      <td>table</td>\n",
       "      <td>1.623444</td>\n",
       "    </tr>\n",
       "    <tr>\n",
       "      <th>7</th>\n",
       "      <td>price</td>\n",
       "      <td>10.132681</td>\n",
       "    </tr>\n",
       "    <tr>\n",
       "      <th>8</th>\n",
       "      <td>volume</td>\n",
       "      <td>130.023665</td>\n",
       "    </tr>\n",
       "  </tbody>\n",
       "</table>\n",
       "</div>"
      ],
      "text/plain": [
       "  features         VIF\n",
       "0    const         inf\n",
       "1    carat  138.723395\n",
       "2      cut    1.508195\n",
       "3    color    1.312728\n",
       "4  clarity    1.794231\n",
       "5    depth    1.403809\n",
       "6    table    1.623444\n",
       "7    price   10.132681\n",
       "8   volume  130.023665"
      ]
     },
     "execution_count": 44,
     "metadata": {},
     "output_type": "execute_result"
    }
   ],
   "source": [
    "calculate_vif(df)"
   ]
  },
  {
   "cell_type": "markdown",
   "id": "37203a7f",
   "metadata": {},
   "source": [
    "Since both Carat and volume has high VIF, we'll check for feature significance."
   ]
  },
  {
   "cell_type": "code",
   "execution_count": 45,
   "id": "e34700bd",
   "metadata": {},
   "outputs": [
    {
     "data": {
      "text/html": [
       "<table class=\"simpletable\">\n",
       "<caption>OLS Regression Results</caption>\n",
       "<tr>\n",
       "  <th>Dep. Variable:</th>          <td>price</td>      <th>  R-squared:         </th>  <td>   0.901</td>  \n",
       "</tr>\n",
       "<tr>\n",
       "  <th>Model:</th>                   <td>OLS</td>       <th>  Adj. R-squared:    </th>  <td>   0.901</td>  \n",
       "</tr>\n",
       "<tr>\n",
       "  <th>Method:</th>             <td>Least Squares</td>  <th>  F-statistic:       </th>  <td>6.556e+04</td> \n",
       "</tr>\n",
       "<tr>\n",
       "  <th>Date:</th>             <td>Wed, 19 Jul 2023</td> <th>  Prob (F-statistic):</th>   <td>  0.00</td>   \n",
       "</tr>\n",
       "<tr>\n",
       "  <th>Time:</th>                 <td>09:35:18</td>     <th>  Log-Likelihood:    </th> <td>-4.1143e+05</td>\n",
       "</tr>\n",
       "<tr>\n",
       "  <th>No. Observations:</th>      <td> 50260</td>      <th>  AIC:               </th>  <td>8.229e+05</td> \n",
       "</tr>\n",
       "<tr>\n",
       "  <th>Df Residuals:</th>          <td> 50252</td>      <th>  BIC:               </th>  <td>8.230e+05</td> \n",
       "</tr>\n",
       "<tr>\n",
       "  <th>Df Model:</th>              <td>     7</td>      <th>                     </th>      <td> </td>     \n",
       "</tr>\n",
       "<tr>\n",
       "  <th>Covariance Type:</th>      <td>nonrobust</td>    <th>                     </th>      <td> </td>     \n",
       "</tr>\n",
       "</table>\n",
       "<table class=\"simpletable\">\n",
       "<tr>\n",
       "     <td></td>        <th>coef</th>     <th>std err</th>      <th>t</th>      <th>P>|t|</th>  <th>[0.025</th>    <th>0.975]</th>  \n",
       "</tr>\n",
       "<tr>\n",
       "  <th>const</th>   <td>-2995.9313</td> <td>  289.279</td> <td>  -10.357</td> <td> 0.000</td> <td>-3562.922</td> <td>-2428.940</td>\n",
       "</tr>\n",
       "<tr>\n",
       "  <th>carat</th>   <td> 6201.0664</td> <td>  115.776</td> <td>   53.561</td> <td> 0.000</td> <td> 5974.144</td> <td> 6427.988</td>\n",
       "</tr>\n",
       "<tr>\n",
       "  <th>cut</th>     <td>   94.3318</td> <td>    4.224</td> <td>   22.331</td> <td> 0.000</td> <td>   86.052</td> <td>  102.611</td>\n",
       "</tr>\n",
       "<tr>\n",
       "  <th>color</th>   <td>  231.4631</td> <td>    2.417</td> <td>   95.784</td> <td> 0.000</td> <td>  226.727</td> <td>  236.200</td>\n",
       "</tr>\n",
       "<tr>\n",
       "  <th>clarity</th> <td>  396.0461</td> <td>    2.603</td> <td>  152.125</td> <td> 0.000</td> <td>  390.943</td> <td>  401.149</td>\n",
       "</tr>\n",
       "<tr>\n",
       "  <th>depth</th>   <td>  -22.1282</td> <td>    3.215</td> <td>   -6.882</td> <td> 0.000</td> <td>  -28.430</td> <td>  -15.826</td>\n",
       "</tr>\n",
       "<tr>\n",
       "  <th>table</th>   <td>  -11.5185</td> <td>    2.216</td> <td>   -5.198</td> <td> 0.000</td> <td>  -15.862</td> <td>   -7.175</td>\n",
       "</tr>\n",
       "<tr>\n",
       "  <th>volume</th>  <td>    8.5627</td> <td>    0.712</td> <td>   12.023</td> <td> 0.000</td> <td>    7.167</td> <td>    9.959</td>\n",
       "</tr>\n",
       "</table>\n",
       "<table class=\"simpletable\">\n",
       "<tr>\n",
       "  <th>Omnibus:</th>       <td>8473.256</td> <th>  Durbin-Watson:     </th>  <td>   0.973</td> \n",
       "</tr>\n",
       "<tr>\n",
       "  <th>Prob(Omnibus):</th>  <td> 0.000</td>  <th>  Jarque-Bera (JB):  </th> <td>163505.229</td>\n",
       "</tr>\n",
       "<tr>\n",
       "  <th>Skew:</th>           <td> 0.208</td>  <th>  Prob(JB):          </th>  <td>    0.00</td> \n",
       "</tr>\n",
       "<tr>\n",
       "  <th>Kurtosis:</th>       <td>11.826</td>  <th>  Cond. No.          </th>  <td>1.16e+04</td> \n",
       "</tr>\n",
       "</table><br/><br/>Notes:<br/>[1] Standard Errors assume that the covariance matrix of the errors is correctly specified.<br/>[2] The condition number is large, 1.16e+04. This might indicate that there are<br/>strong multicollinearity or other numerical problems."
      ],
      "text/plain": [
       "<class 'statsmodels.iolib.summary.Summary'>\n",
       "\"\"\"\n",
       "                            OLS Regression Results                            \n",
       "==============================================================================\n",
       "Dep. Variable:                  price   R-squared:                       0.901\n",
       "Model:                            OLS   Adj. R-squared:                  0.901\n",
       "Method:                 Least Squares   F-statistic:                 6.556e+04\n",
       "Date:                Wed, 19 Jul 2023   Prob (F-statistic):               0.00\n",
       "Time:                        09:35:18   Log-Likelihood:            -4.1143e+05\n",
       "No. Observations:               50260   AIC:                         8.229e+05\n",
       "Df Residuals:                   50252   BIC:                         8.230e+05\n",
       "Df Model:                           7                                         \n",
       "Covariance Type:            nonrobust                                         \n",
       "==============================================================================\n",
       "                 coef    std err          t      P>|t|      [0.025      0.975]\n",
       "------------------------------------------------------------------------------\n",
       "const      -2995.9313    289.279    -10.357      0.000   -3562.922   -2428.940\n",
       "carat       6201.0664    115.776     53.561      0.000    5974.144    6427.988\n",
       "cut           94.3318      4.224     22.331      0.000      86.052     102.611\n",
       "color        231.4631      2.417     95.784      0.000     226.727     236.200\n",
       "clarity      396.0461      2.603    152.125      0.000     390.943     401.149\n",
       "depth        -22.1282      3.215     -6.882      0.000     -28.430     -15.826\n",
       "table        -11.5185      2.216     -5.198      0.000     -15.862      -7.175\n",
       "volume         8.5627      0.712     12.023      0.000       7.167       9.959\n",
       "==============================================================================\n",
       "Omnibus:                     8473.256   Durbin-Watson:                   0.973\n",
       "Prob(Omnibus):                  0.000   Jarque-Bera (JB):           163505.229\n",
       "Skew:                           0.208   Prob(JB):                         0.00\n",
       "Kurtosis:                      11.826   Cond. No.                     1.16e+04\n",
       "==============================================================================\n",
       "\n",
       "Notes:\n",
       "[1] Standard Errors assume that the covariance matrix of the errors is correctly specified.\n",
       "[2] The condition number is large, 1.16e+04. This might indicate that there are\n",
       "strong multicollinearity or other numerical problems.\n",
       "\"\"\""
      ]
     },
     "execution_count": 45,
     "metadata": {},
     "output_type": "execute_result"
    }
   ],
   "source": [
    "#Define the independent and dependent variables\n",
    "y= df['price'] #dependent variable is price\n",
    "x= df.drop(['price'], axis=1)\n",
    "\n",
    "\n",
    "# splitting the data\n",
    "x_train, x_test, y_train, y_test = train_test_split(x,y, test_size= 0.2)\n",
    "\n",
    "\n",
    "#This is the intercept that has to be added to create the model\n",
    "x = sm.add_constant(x)\n",
    "\n",
    "# create the model\n",
    "modelNew = sm.OLS(y, x)\n",
    "\n",
    "#fit the model\n",
    "fitted = modelNew.fit() \n",
    "\n",
    "#Obtain the results of regression\n",
    "fitted.summary()"
   ]
  },
  {
   "cell_type": "markdown",
   "id": "e062a673",
   "metadata": {},
   "source": [
    "We can see both carat and volume are have high VIF and both are significant features. Since both enlighten us about the physical attributes of the diamond, I'm dropping volume."
   ]
  },
  {
   "cell_type": "code",
   "execution_count": 46,
   "id": "26dc1e89",
   "metadata": {},
   "outputs": [],
   "source": [
    "df = df.drop('volume', axis=1)"
   ]
  },
  {
   "cell_type": "code",
   "execution_count": 47,
   "id": "b277363b",
   "metadata": {},
   "outputs": [
    {
     "data": {
      "text/html": [
       "<div>\n",
       "<style scoped>\n",
       "    .dataframe tbody tr th:only-of-type {\n",
       "        vertical-align: middle;\n",
       "    }\n",
       "\n",
       "    .dataframe tbody tr th {\n",
       "        vertical-align: top;\n",
       "    }\n",
       "\n",
       "    .dataframe thead th {\n",
       "        text-align: right;\n",
       "    }\n",
       "</style>\n",
       "<table border=\"1\" class=\"dataframe\">\n",
       "  <thead>\n",
       "    <tr style=\"text-align: right;\">\n",
       "      <th></th>\n",
       "      <th>carat</th>\n",
       "      <th>cut</th>\n",
       "      <th>color</th>\n",
       "      <th>clarity</th>\n",
       "      <th>depth</th>\n",
       "      <th>table</th>\n",
       "      <th>price</th>\n",
       "    </tr>\n",
       "  </thead>\n",
       "  <tbody>\n",
       "    <tr>\n",
       "      <th>0</th>\n",
       "      <td>0.23</td>\n",
       "      <td>4</td>\n",
       "      <td>5</td>\n",
       "      <td>2</td>\n",
       "      <td>61.5</td>\n",
       "      <td>55.0</td>\n",
       "      <td>326</td>\n",
       "    </tr>\n",
       "    <tr>\n",
       "      <th>1</th>\n",
       "      <td>0.21</td>\n",
       "      <td>3</td>\n",
       "      <td>5</td>\n",
       "      <td>3</td>\n",
       "      <td>59.8</td>\n",
       "      <td>61.0</td>\n",
       "      <td>326</td>\n",
       "    </tr>\n",
       "    <tr>\n",
       "      <th>2</th>\n",
       "      <td>0.23</td>\n",
       "      <td>1</td>\n",
       "      <td>5</td>\n",
       "      <td>5</td>\n",
       "      <td>56.9</td>\n",
       "      <td>65.0</td>\n",
       "      <td>327</td>\n",
       "    </tr>\n",
       "    <tr>\n",
       "      <th>3</th>\n",
       "      <td>0.29</td>\n",
       "      <td>3</td>\n",
       "      <td>1</td>\n",
       "      <td>4</td>\n",
       "      <td>62.4</td>\n",
       "      <td>58.0</td>\n",
       "      <td>334</td>\n",
       "    </tr>\n",
       "    <tr>\n",
       "      <th>4</th>\n",
       "      <td>0.31</td>\n",
       "      <td>1</td>\n",
       "      <td>0</td>\n",
       "      <td>2</td>\n",
       "      <td>63.3</td>\n",
       "      <td>58.0</td>\n",
       "      <td>335</td>\n",
       "    </tr>\n",
       "  </tbody>\n",
       "</table>\n",
       "</div>"
      ],
      "text/plain": [
       "   carat  cut  color  clarity  depth  table  price\n",
       "0   0.23    4      5        2   61.5   55.0    326\n",
       "1   0.21    3      5        3   59.8   61.0    326\n",
       "2   0.23    1      5        5   56.9   65.0    327\n",
       "3   0.29    3      1        4   62.4   58.0    334\n",
       "4   0.31    1      0        2   63.3   58.0    335"
      ]
     },
     "execution_count": 47,
     "metadata": {},
     "output_type": "execute_result"
    }
   ],
   "source": [
    "df.head() "
   ]
  },
  {
   "cell_type": "code",
   "execution_count": 48,
   "id": "7862e9ed",
   "metadata": {},
   "outputs": [
    {
     "data": {
      "image/png": "[encoded data removed]",
      "text/plain": [
       "<Figure size 800x600 with 2 Axes>"
      ]
     },
     "metadata": {},
     "output_type": "display_data"
    }
   ],
   "source": [
    "# plotting heatmap\n",
    "def plot_heatmap():\n",
    "    from seaborn import heatmap\n",
    "    \n",
    "    # define correlation matrix\n",
    "    corr_df = df.corr(method='pearson')\n",
    "    df_lt = corr_df.where(np.tril(np.ones(corr_df.shape)).astype(np.bool))\n",
    "    \n",
    "    # plot heatmap\n",
    "    plt.figure(figsize=(8, 6))\n",
    "    heatmap(data=df_lt, annot=True, square=True, cbar=True, linewidths=.5, fmt='.3f', cmap='coolwarm')\n",
    "    plt.title('Correlation Heatmap')\n",
    "    plt.show()\n",
    "\n",
    "plot_heatmap()"
   ]
  },
  {
   "cell_type": "markdown",
   "id": "d3c10f35",
   "metadata": {},
   "source": [
    "# Linear Regression using Stats Model"
   ]
  },
  {
   "cell_type": "code",
   "execution_count": 49,
   "id": "ce977813",
   "metadata": {},
   "outputs": [],
   "source": [
    "#Define the independent and dependent variables\n",
    "y= df['price'] #dependent variable is price\n",
    "x= df.drop(['price'], axis=1)"
   ]
  },
  {
   "cell_type": "code",
   "execution_count": 50,
   "id": "d02275bf",
   "metadata": {},
   "outputs": [],
   "source": [
    "# splitting the data\n",
    "x_train, x_test, y_train, y_test = train_test_split(x,y, test_size= 0.2)"
   ]
  },
  {
   "cell_type": "code",
   "execution_count": 51,
   "id": "e0f744dc",
   "metadata": {
    "scrolled": false
   },
   "outputs": [
    {
     "data": {
      "text/html": [
       "<table class=\"simpletable\">\n",
       "<caption>OLS Regression Results</caption>\n",
       "<tr>\n",
       "  <th>Dep. Variable:</th>          <td>price</td>      <th>  R-squared:         </th>  <td>   0.901</td>  \n",
       "</tr>\n",
       "<tr>\n",
       "  <th>Model:</th>                   <td>OLS</td>       <th>  Adj. R-squared:    </th>  <td>   0.901</td>  \n",
       "</tr>\n",
       "<tr>\n",
       "  <th>Method:</th>             <td>Least Squares</td>  <th>  F-statistic:       </th>  <td>7.625e+04</td> \n",
       "</tr>\n",
       "<tr>\n",
       "  <th>Date:</th>             <td>Wed, 19 Jul 2023</td> <th>  Prob (F-statistic):</th>   <td>  0.00</td>   \n",
       "</tr>\n",
       "<tr>\n",
       "  <th>Time:</th>                 <td>09:35:19</td>     <th>  Log-Likelihood:    </th> <td>-4.1151e+05</td>\n",
       "</tr>\n",
       "<tr>\n",
       "  <th>No. Observations:</th>      <td> 50260</td>      <th>  AIC:               </th>  <td>8.230e+05</td> \n",
       "</tr>\n",
       "<tr>\n",
       "  <th>Df Residuals:</th>          <td> 50253</td>      <th>  BIC:               </th>  <td>8.231e+05</td> \n",
       "</tr>\n",
       "<tr>\n",
       "  <th>Df Model:</th>              <td>     6</td>      <th>                     </th>      <td> </td>     \n",
       "</tr>\n",
       "<tr>\n",
       "  <th>Covariance Type:</th>      <td>nonrobust</td>    <th>                     </th>      <td> </td>     \n",
       "</tr>\n",
       "</table>\n",
       "<table class=\"simpletable\">\n",
       "<tr>\n",
       "     <td></td>        <th>coef</th>     <th>std err</th>      <th>t</th>      <th>P>|t|</th>  <th>[0.025</th>    <th>0.975]</th>  \n",
       "</tr>\n",
       "<tr>\n",
       "  <th>const</th>   <td>-2183.1902</td> <td>  281.672</td> <td>   -7.751</td> <td> 0.000</td> <td>-2735.270</td> <td>-1631.110</td>\n",
       "</tr>\n",
       "<tr>\n",
       "  <th>carat</th>   <td> 7586.0595</td> <td>   11.601</td> <td>  653.910</td> <td> 0.000</td> <td> 7563.321</td> <td> 7608.798</td>\n",
       "</tr>\n",
       "<tr>\n",
       "  <th>cut</th>     <td>   95.4780</td> <td>    4.229</td> <td>   22.576</td> <td> 0.000</td> <td>   87.189</td> <td>  103.767</td>\n",
       "</tr>\n",
       "<tr>\n",
       "  <th>color</th>   <td>  231.5669</td> <td>    2.420</td> <td>   95.691</td> <td> 0.000</td> <td>  226.824</td> <td>  236.310</td>\n",
       "</tr>\n",
       "<tr>\n",
       "  <th>clarity</th> <td>  396.2919</td> <td>    2.607</td> <td>  152.007</td> <td> 0.000</td> <td>  391.182</td> <td>  401.402</td>\n",
       "</tr>\n",
       "<tr>\n",
       "  <th>depth</th>   <td>  -31.1997</td> <td>    3.130</td> <td>   -9.968</td> <td> 0.000</td> <td>  -37.334</td> <td>  -25.065</td>\n",
       "</tr>\n",
       "<tr>\n",
       "  <th>table</th>   <td>  -15.8790</td> <td>    2.189</td> <td>   -7.254</td> <td> 0.000</td> <td>  -20.170</td> <td>  -11.588</td>\n",
       "</tr>\n",
       "</table>\n",
       "<table class=\"simpletable\">\n",
       "<tr>\n",
       "  <th>Omnibus:</th>       <td>8509.921</td> <th>  Durbin-Watson:     </th>  <td>   0.973</td> \n",
       "</tr>\n",
       "<tr>\n",
       "  <th>Prob(Omnibus):</th>  <td> 0.000</td>  <th>  Jarque-Bera (JB):  </th> <td>165681.389</td>\n",
       "</tr>\n",
       "<tr>\n",
       "  <th>Skew:</th>           <td> 0.210</td>  <th>  Prob(JB):          </th>  <td>    0.00</td> \n",
       "</tr>\n",
       "<tr>\n",
       "  <th>Kurtosis:</th>       <td>11.885</td>  <th>  Cond. No.          </th>  <td>6.14e+03</td> \n",
       "</tr>\n",
       "</table><br/><br/>Notes:<br/>[1] Standard Errors assume that the covariance matrix of the errors is correctly specified.<br/>[2] The condition number is large, 6.14e+03. This might indicate that there are<br/>strong multicollinearity or other numerical problems."
      ],
      "text/plain": [
       "<class 'statsmodels.iolib.summary.Summary'>\n",
       "\"\"\"\n",
       "                            OLS Regression Results                            \n",
       "==============================================================================\n",
       "Dep. Variable:                  price   R-squared:                       0.901\n",
       "Model:                            OLS   Adj. R-squared:                  0.901\n",
       "Method:                 Least Squares   F-statistic:                 7.625e+04\n",
       "Date:                Wed, 19 Jul 2023   Prob (F-statistic):               0.00\n",
       "Time:                        09:35:19   Log-Likelihood:            -4.1151e+05\n",
       "No. Observations:               50260   AIC:                         8.230e+05\n",
       "Df Residuals:                   50253   BIC:                         8.231e+05\n",
       "Df Model:                           6                                         \n",
       "Covariance Type:            nonrobust                                         \n",
       "==============================================================================\n",
       "                 coef    std err          t      P>|t|      [0.025      0.975]\n",
       "------------------------------------------------------------------------------\n",
       "const      -2183.1902    281.672     -7.751      0.000   -2735.270   -1631.110\n",
       "carat       7586.0595     11.601    653.910      0.000    7563.321    7608.798\n",
       "cut           95.4780      4.229     22.576      0.000      87.189     103.767\n",
       "color        231.5669      2.420     95.691      0.000     226.824     236.310\n",
       "clarity      396.2919      2.607    152.007      0.000     391.182     401.402\n",
       "depth        -31.1997      3.130     -9.968      0.000     -37.334     -25.065\n",
       "table        -15.8790      2.189     -7.254      0.000     -20.170     -11.588\n",
       "==============================================================================\n",
       "Omnibus:                     8509.921   Durbin-Watson:                   0.973\n",
       "Prob(Omnibus):                  0.000   Jarque-Bera (JB):           165681.389\n",
       "Skew:                           0.210   Prob(JB):                         0.00\n",
       "Kurtosis:                      11.885   Cond. No.                     6.14e+03\n",
       "==============================================================================\n",
       "\n",
       "Notes:\n",
       "[1] Standard Errors assume that the covariance matrix of the errors is correctly specified.\n",
       "[2] The condition number is large, 6.14e+03. This might indicate that there are\n",
       "strong multicollinearity or other numerical problems.\n",
       "\"\"\""
      ]
     },
     "execution_count": 51,
     "metadata": {},
     "output_type": "execute_result"
    }
   ],
   "source": [
    "#This is the intercept that has to be added to create the model\n",
    "x = sm.add_constant(x)\n",
    "\n",
    "# create the model\n",
    "modelNew = sm.OLS(y, x)\n",
    "\n",
    "#fit the model\n",
    "fitted = modelNew.fit() \n",
    "\n",
    "#Obtain the results of regression\n",
    "fitted.summary() "
   ]
  },
  {
   "cell_type": "markdown",
   "id": "060a0316",
   "metadata": {},
   "source": [
    "# Observation"
   ]
  },
  {
   "cell_type": "markdown",
   "id": "176922a9",
   "metadata": {},
   "source": [
    "We can see :\n",
    "\n",
    "the P value of our F statistic, and conclude that our overall model is significant.\n",
    "\n",
    "The P valus of our t statistic of every feature, and conclude that all our features are significant."
   ]
  },
  {
   "cell_type": "markdown",
   "id": "7b31896c",
   "metadata": {},
   "source": [
    "# Scaling the data"
   ]
  },
  {
   "cell_type": "code",
   "execution_count": 54,
   "id": "fba15176",
   "metadata": {},
   "outputs": [],
   "source": [
    "#Built-in function to standardize the data\n",
    "from sklearn.preprocessing import StandardScaler\n",
    "cols=['carat', 'depth','table'] #identifying the columns to be standardized\n",
    "for i in cols:\n",
    "#fit the training data with standard scale\n",
    "    scale = StandardScaler().fit(df[[i]])\n",
    "# standardize the numerical predictor columns in the dataframe\n",
    "    df[i] = scale.transform(df[[i]])"
   ]
  },
  {
   "cell_type": "code",
   "execution_count": 55,
   "id": "315bc535",
   "metadata": {},
   "outputs": [
    {
     "data": {
      "text/html": [
       "<div>\n",
       "<style scoped>\n",
       "    .dataframe tbody tr th:only-of-type {\n",
       "        vertical-align: middle;\n",
       "    }\n",
       "\n",
       "    .dataframe tbody tr th {\n",
       "        vertical-align: top;\n",
       "    }\n",
       "\n",
       "    .dataframe thead th {\n",
       "        text-align: right;\n",
       "    }\n",
       "</style>\n",
       "<table border=\"1\" class=\"dataframe\">\n",
       "  <thead>\n",
       "    <tr style=\"text-align: right;\">\n",
       "      <th></th>\n",
       "      <th>carat</th>\n",
       "      <th>cut</th>\n",
       "      <th>color</th>\n",
       "      <th>clarity</th>\n",
       "      <th>depth</th>\n",
       "      <th>table</th>\n",
       "      <th>price</th>\n",
       "    </tr>\n",
       "  </thead>\n",
       "  <tbody>\n",
       "    <tr>\n",
       "      <th>0</th>\n",
       "      <td>-1.287238</td>\n",
       "      <td>4</td>\n",
       "      <td>5</td>\n",
       "      <td>2</td>\n",
       "      <td>-0.178365</td>\n",
       "      <td>-1.087284</td>\n",
       "      <td>326</td>\n",
       "    </tr>\n",
       "    <tr>\n",
       "      <th>1</th>\n",
       "      <td>-1.339388</td>\n",
       "      <td>3</td>\n",
       "      <td>5</td>\n",
       "      <td>3</td>\n",
       "      <td>-1.369144</td>\n",
       "      <td>1.605646</td>\n",
       "      <td>326</td>\n",
       "    </tr>\n",
       "    <tr>\n",
       "      <th>2</th>\n",
       "      <td>-1.287238</td>\n",
       "      <td>1</td>\n",
       "      <td>5</td>\n",
       "      <td>5</td>\n",
       "      <td>-3.400474</td>\n",
       "      <td>3.400932</td>\n",
       "      <td>327</td>\n",
       "    </tr>\n",
       "    <tr>\n",
       "      <th>3</th>\n",
       "      <td>-1.130788</td>\n",
       "      <td>3</td>\n",
       "      <td>1</td>\n",
       "      <td>4</td>\n",
       "      <td>0.452048</td>\n",
       "      <td>0.259181</td>\n",
       "      <td>334</td>\n",
       "    </tr>\n",
       "    <tr>\n",
       "      <th>4</th>\n",
       "      <td>-1.078638</td>\n",
       "      <td>1</td>\n",
       "      <td>0</td>\n",
       "      <td>2</td>\n",
       "      <td>1.082461</td>\n",
       "      <td>0.259181</td>\n",
       "      <td>335</td>\n",
       "    </tr>\n",
       "  </tbody>\n",
       "</table>\n",
       "</div>"
      ],
      "text/plain": [
       "      carat  cut  color  clarity     depth     table  price\n",
       "0 -1.287238    4      5        2 -0.178365 -1.087284    326\n",
       "1 -1.339388    3      5        3 -1.369144  1.605646    326\n",
       "2 -1.287238    1      5        5 -3.400474  3.400932    327\n",
       "3 -1.130788    3      1        4  0.452048  0.259181    334\n",
       "4 -1.078638    1      0        2  1.082461  0.259181    335"
      ]
     },
     "execution_count": 55,
     "metadata": {},
     "output_type": "execute_result"
    }
   ],
   "source": [
    "df.head()"
   ]
  },
  {
   "cell_type": "code",
   "execution_count": 56,
   "id": "ada0bdf3",
   "metadata": {},
   "outputs": [
    {
     "data": {
      "text/plain": [
       "carat      cut  color  clarity  depth      table      price\n",
       "-1.078638  4    3      8         0.241910  -1.536106  891      4\n",
       "-1.104713  4    5      4        -0.178365  -1.087284  844      4\n",
       "-1.078638  4    6      4        -0.388502  -1.087284  942      4\n",
       "                                -0.178365  -0.638463  734      4\n",
       "                                                      942      4\n",
       "                                                              ..\n",
       "-0.661438  2    3      3         0.732231  -0.638463  1133     1\n",
       "                       5        -0.878823   0.887531  1203     1\n",
       "                       7        -0.808777  -1.087284  1780     1\n",
       "                4      2         1.082461   0.708002  1058     1\n",
       " 7.630413  0    2      1         3.744203  -1.984927  11668    1\n",
       "Length: 49605, dtype: int64"
      ]
     },
     "execution_count": 56,
     "metadata": {},
     "output_type": "execute_result"
    }
   ],
   "source": [
    "df.value_counts()"
   ]
  },
  {
   "cell_type": "markdown",
   "id": "c78c26e4",
   "metadata": {},
   "source": [
    "# Linear Regression (Machine Learning)"
   ]
  },
  {
   "cell_type": "code",
   "execution_count": 57,
   "id": "3aedd60d",
   "metadata": {},
   "outputs": [],
   "source": [
    "#Define the independent and dependent variables\n",
    "y= df['price'] #dependent variable is price\n",
    "x= df.drop(['price'], axis=1)"
   ]
  },
  {
   "cell_type": "code",
   "execution_count": 58,
   "id": "1834fdd8",
   "metadata": {},
   "outputs": [],
   "source": [
    "# splitting the data\n",
    "x_train, x_test, y_train, y_test = train_test_split(x,y, test_size= 0.2)"
   ]
  },
  {
   "cell_type": "code",
   "execution_count": 59,
   "id": "5d4272ae",
   "metadata": {},
   "outputs": [
    {
     "data": {
      "text/plain": [
       "LinearRegression()"
      ]
     },
     "execution_count": 59,
     "metadata": {},
     "output_type": "execute_result"
    }
   ],
   "source": [
    "model = LinearRegression() #Create a linear regression model\n",
    "model.fit(x_train,y_train) #Fit the data"
   ]
  },
  {
   "cell_type": "code",
   "execution_count": 60,
   "id": "feacf281",
   "metadata": {},
   "outputs": [],
   "source": [
    "#Predict the value of y based on the test data\n",
    "y_pred =  model.predict(x_test)"
   ]
  },
  {
   "cell_type": "code",
   "execution_count": 61,
   "id": "c9be5576",
   "metadata": {},
   "outputs": [
    {
     "name": "stdout",
     "output_type": "stream",
     "text": [
      "r_squared value is  0.9010198071997806\n"
     ]
    }
   ],
   "source": [
    "#Obtain the r_squared value\n",
    "\n",
    "print(\"r_squared value is \", model.score(x,y))"
   ]
  },
  {
   "cell_type": "code",
   "execution_count": 62,
   "id": "b78c8da3",
   "metadata": {},
   "outputs": [
    {
     "name": "stdout",
     "output_type": "stream",
     "text": [
      "Mean Absolute Percentage Error 0.3661998138387097\n",
      "Mean Square Error is 788618.4326731722\n",
      "Root Mean Square Error is 888.0419092999903\n"
     ]
    }
   ],
   "source": [
    "from sklearn.metrics import mean_squared_error\n",
    "from sklearn.metrics import mean_absolute_percentage_error\n",
    "\n",
    "# Calculate the mean squared error (MSE)\n",
    "MSE = mean_squared_error(y_test, y_pred)\n",
    "\n",
    "# Calculate the root mean squared error (RMSE)\n",
    "RMSE_LR = np.sqrt(MSE)\n",
    "\n",
    "# Calculate MAPE for the training data\n",
    "MAPE_LR = mean_absolute_percentage_error(y_test, y_pred)\n",
    "\n",
    "# Printing results\n",
    "\n",
    "print(\"Mean Absolute Percentage Error\", MAPE_LR)\n",
    "print(\"Mean Square Error is\", MSE)\n",
    "print(\"Root Mean Square Error is\", RMSE_LR)\n"
   ]
  },
  {
   "cell_type": "markdown",
   "id": "30010372",
   "metadata": {},
   "source": [
    "# KNN"
   ]
  },
  {
   "cell_type": "code",
   "execution_count": 64,
   "id": "8a26f02a",
   "metadata": {},
   "outputs": [],
   "source": [
    "from sklearn.neighbors import KNeighborsRegressor\n",
    "from sklearn.metrics import mean_squared_error, mean_absolute_percentage_error, r2_score"
   ]
  },
  {
   "cell_type": "code",
   "execution_count": 65,
   "id": "b891a3ad",
   "metadata": {},
   "outputs": [
    {
     "name": "stdout",
     "output_type": "stream",
     "text": [
      "R-squared value is 0.9492020546161121\n",
      "Root Mean Square Error is 628.6822077085845\n",
      "MSE: 395241.3182893399\n",
      "MAPE: 0.14712220764227285\n"
     ]
    }
   ],
   "source": [
    "# Create a KNN regressor and fit the training data\n",
    "k = 3 # number of nearest neighbors to consider\n",
    "knn = KNeighborsRegressor(n_neighbors=k)\n",
    "knn.fit(x_train, y_train)\n",
    "\n",
    "# Predict the target variable for the test data\n",
    "y_pred = knn.predict(x_test)\n",
    "\n",
    "\n",
    "r2 = r2_score(y_test, y_pred)\n",
    "# Evaluate the model performance using mean squared error\n",
    "mse = mean_squared_error(y_test, y_pred)\n",
    "\n",
    "# Calculate the root mean squared error (RMSE)\n",
    "RMSE_KNN = np.sqrt(mse)\n",
    "\n",
    "# Evaluate the model performance using mean absolute percentage error\n",
    "MAPE_KNN = mean_absolute_percentage_error(y_test, y_pred)\n",
    "\n",
    "\n",
    "#Obtain the r_squared value\n",
    "print(\"R-squared value is\", r2)\n",
    "print(\"Root Mean Square Error is\", RMSE_KNN)\n",
    "print(\"MSE:\", mse)\n",
    "print(\"MAPE:\", MAPE_KNN)"
   ]
  },
  {
   "cell_type": "markdown",
   "id": "7856f025",
   "metadata": {},
   "source": [
    "# Decision tree"
   ]
  },
  {
   "cell_type": "code",
   "execution_count": 67,
   "id": "a60ee1fd",
   "metadata": {},
   "outputs": [],
   "source": [
    "from sklearn.tree import DecisionTreeRegressor"
   ]
  },
  {
   "cell_type": "code",
   "execution_count": 68,
   "id": "2d80bc23",
   "metadata": {},
   "outputs": [
    {
     "name": "stdout",
     "output_type": "stream",
     "text": [
      "Root Mean Squared Error (RMSE): 510.69249335231564\n",
      "Mean Squared Error: 260806.82276640495\n",
      "R-squared Score: 0.9664800967773958\n",
      "Mean Absolute Percentage Error (MAPE): 0.10216927099407613\n"
     ]
    }
   ],
   "source": [
    "# Create a decision tree regressor model and fit the training data\n",
    "dt = DecisionTreeRegressor()\n",
    "dt.fit(x_train, y_train)\n",
    "\n",
    "# Predict the target variable for the test data\n",
    "y_pred = dt.predict(x_test)\n",
    "\n",
    "# Evaluate the model performance using mean squared error and R-squared score\n",
    "mse = mean_squared_error(y_test, y_pred)\n",
    "r2 = r2_score(y_test, y_pred)\n",
    "RMSE_DT = np.sqrt(mse)\n",
    "MAPE_DT = mean_absolute_percentage_error(y_test, y_pred)\n",
    "\n",
    "print(\"Root Mean Squared Error (RMSE):\", RMSE_DT)\n",
    "print(\"Mean Squared Error:\", mse)\n",
    "print(\"R-squared Score:\", r2)\n",
    "print(\"Mean Absolute Percentage Error (MAPE):\", MAPE_DT)"
   ]
  },
  {
   "cell_type": "markdown",
   "id": "511a4ccc",
   "metadata": {},
   "source": [
    "# random forest"
   ]
  },
  {
   "cell_type": "code",
   "execution_count": 71,
   "id": "205b9de7",
   "metadata": {},
   "outputs": [
    {
     "name": "stdout",
     "output_type": "stream",
     "text": [
      "Mean Squared Error: 148759.51480054262\n"
     ]
    }
   ],
   "source": [
    "from sklearn.ensemble import RandomForestRegressor\n",
    "from sklearn.model_selection import train_test_split\n",
    "from sklearn.metrics import mean_squared_error\n",
    "\n",
    "# Assuming you have your feature matrix X and target vector y\n",
    "\n",
    "# Split the data into training and testing sets\n",
    "x_train, x_test, y_train, y_test = train_test_split(x, y, test_size=0.2, random_state=42)\n",
    "\n",
    "# Create a random forest regressor object\n",
    "rf_regressor = RandomForestRegressor(n_estimators=100, random_state=42)\n",
    "\n",
    "# Train the regressor on the training data\n",
    "rf_regressor.fit(x_train, y_train)\n",
    "\n",
    "# Make predictions on the test data\n",
    "y_pred = rf_regressor.predict(x_test)\n",
    "\n",
    "# Calculate the mean squared error of the model\n",
    "mse = mean_squared_error(y_test, y_pred)\n",
    "print(\"Mean Squared Error:\", mse)"
   ]
  },
  {
   "cell_type": "code",
   "execution_count": 73,
   "id": "cc9b0678",
   "metadata": {},
   "outputs": [
    {
     "data": {
      "text/plain": [
       "array([4554.19333333, 2355.928     , 1880.195     , ..., 3139.28      ,\n",
       "       2636.43083333, 6518.43      ])"
      ]
     },
     "execution_count": 73,
     "metadata": {},
     "output_type": "execute_result"
    }
   ],
   "source": [
    "y_pred = rf_regressor.predict(x_test)\n",
    "y_pred"
   ]
  },
  {
   "cell_type": "code",
   "execution_count": 77,
   "id": "77629797",
   "metadata": {},
   "outputs": [
    {
     "name": "stdout",
     "output_type": "stream",
     "text": [
      "Mean Absolute Percentage Error (MAPE): 0.08293886377612154\n",
      "Mean Absolute Percentage Error (MAPE): 0.03675893195817893\n"
     ]
    }
   ],
   "source": [
    "test_MAPE_RF = mean_absolute_percentage_error(y_test, y_pred)\n",
    "\n",
    "train_mape_rf = mean_absolute_percentage_error(y_train, rf_regressor.predict(x_train))\n",
    "print(\"Mean Absolute Percentage Error (MAPE):\", test_MAPE_RF)\n",
    "print(\"Mean Absolute Percentage Error (MAPE):\", train_mape_rf)"
   ]
  },
  {
   "cell_type": "markdown",
   "id": "34dd6cef",
   "metadata": {},
   "source": [
    "We can see carat is the most important feature and table is least."
   ]
  },
  {
   "cell_type": "markdown",
   "id": "b77672e1",
   "metadata": {},
   "source": [
    "# Observations"
   ]
  },
  {
   "cell_type": "code",
   "execution_count": 74,
   "id": "c3b501ab",
   "metadata": {},
   "outputs": [
    {
     "name": "stdout",
     "output_type": "stream",
     "text": [
      "MAPE for LR is 0.34965799810572623\n",
      "MAPE for KNN is 0.14797685896319482\n",
      "MAPE for Decision Tree is 0.10076608137309546\n",
      "MAPE for random forest is 0.08293886377612154\n",
      "We see that Random forest gives us the least MAPE\n"
     ]
    }
   ],
   "source": [
    "\n",
    "print(\"MAPE for LR is\", MAPE_LR)\n",
    "\n",
    "print(\"MAPE for KNN is\", MAPE_KNN)\n",
    "\n",
    "print(\"MAPE for Decision Tree is\", MAPE_DT)\n",
    "\n",
    "print(\"MAPE for random forest is\", MAPE_RF)\n",
    "\n",
    "print(\"We see that Random forest gives us the least MAPE\")"
   ]
  },
  {
   "cell_type": "code",
   "execution_count": 79,
   "id": "938d1cba",
   "metadata": {},
   "outputs": [],
   "source": [
    "Metrics_df = pd.DataFrame({\n",
    "    \"Model\": [\"Linear Regression\",\"KNN\",'Decision Tree',\"Random Forest\"],\n",
    "   \n",
    "    \"MAPE\": [MAPE_LR, MAPE_KNN, MAPE_DT, test_MAPE_RF]\n",
    "})"
   ]
  },
  {
   "cell_type": "code",
   "execution_count": 80,
   "id": "3596f1dd",
   "metadata": {},
   "outputs": [
    {
     "data": {
      "text/html": [
       "<div>\n",
       "<style scoped>\n",
       "    .dataframe tbody tr th:only-of-type {\n",
       "        vertical-align: middle;\n",
       "    }\n",
       "\n",
       "    .dataframe tbody tr th {\n",
       "        vertical-align: top;\n",
       "    }\n",
       "\n",
       "    .dataframe thead th {\n",
       "        text-align: right;\n",
       "    }\n",
       "</style>\n",
       "<table border=\"1\" class=\"dataframe\">\n",
       "  <thead>\n",
       "    <tr style=\"text-align: right;\">\n",
       "      <th></th>\n",
       "      <th>Model</th>\n",
       "      <th>MAPE</th>\n",
       "    </tr>\n",
       "  </thead>\n",
       "  <tbody>\n",
       "    <tr>\n",
       "      <th>0</th>\n",
       "      <td>Linear Regression</td>\n",
       "      <td>0.366200</td>\n",
       "    </tr>\n",
       "    <tr>\n",
       "      <th>1</th>\n",
       "      <td>KNN</td>\n",
       "      <td>0.147122</td>\n",
       "    </tr>\n",
       "    <tr>\n",
       "      <th>2</th>\n",
       "      <td>Decision Tree</td>\n",
       "      <td>0.102169</td>\n",
       "    </tr>\n",
       "    <tr>\n",
       "      <th>3</th>\n",
       "      <td>Random Forest</td>\n",
       "      <td>0.082939</td>\n",
       "    </tr>\n",
       "  </tbody>\n",
       "</table>\n",
       "</div>"
      ],
      "text/plain": [
       "               Model      MAPE\n",
       "0  Linear Regression  0.366200\n",
       "1                KNN  0.147122\n",
       "2      Decision Tree  0.102169\n",
       "3      Random Forest  0.082939"
      ]
     },
     "execution_count": 80,
     "metadata": {},
     "output_type": "execute_result"
    }
   ],
   "source": [
    "Metrics_df"
   ]
  },
  {
   "cell_type": "markdown",
   "id": "30379679",
   "metadata": {},
   "source": [
    "We can see Random forest gives us the best result, then Decision tree, then KNN and lastly Linear Regression."
   ]
  },
  {
   "cell_type": "code",
   "execution_count": 81,
   "id": "b2a2326a",
   "metadata": {},
   "outputs": [
    {
     "data": {
      "text/plain": [
       "RandomForestRegressor(random_state=42)"
      ]
     },
     "execution_count": 81,
     "metadata": {},
     "output_type": "execute_result"
    }
   ],
   "source": [
    "rf_regressor"
   ]
  },
  {
   "cell_type": "markdown",
   "id": "f8df30d7",
   "metadata": {},
   "source": [
    "# pickling the model"
   ]
  },
  {
   "cell_type": "code",
   "execution_count": 82,
   "id": "d171a877",
   "metadata": {},
   "outputs": [],
   "source": [
    "import pickle"
   ]
  },
  {
   "cell_type": "code",
   "execution_count": 83,
   "id": "426bce60",
   "metadata": {},
   "outputs": [],
   "source": [
    "with open('model_pickle','wb') as f:\n",
    "    pickle.dump(rf_regressor,f)"
   ]
  },
  {
   "cell_type": "code",
   "execution_count": 84,
   "id": "8aae9669",
   "metadata": {},
   "outputs": [],
   "source": [
    "with open ('model_pickle','rb') as f:\n",
    "    mp =pickle.load(f)"
   ]
  },
  {
   "cell_type": "code",
   "execution_count": 96,
   "id": "51b8b46f",
   "metadata": {},
   "outputs": [
    {
     "data": {
      "text/plain": [
       "array([5872.60833333])"
      ]
     },
     "execution_count": 96,
     "metadata": {},
     "output_type": "execute_result"
    }
   ],
   "source": [
    "mp.predict([[1.059512,4,2,4,0.171865,-0.189641]])"
   ]
  },
  {
   "cell_type": "code",
   "execution_count": 98,
   "id": "10eb0624",
   "metadata": {},
   "outputs": [
    {
     "data": {
      "text/plain": [
       "Index(['carat', 'cut', 'color', 'clarity', 'depth', 'table'], dtype='object')"
      ]
     },
     "execution_count": 98,
     "metadata": {},
     "output_type": "execute_result"
    }
   ],
   "source": [
    "x_train.columns"
   ]
  },
  {
   "cell_type": "code",
   "execution_count": 89,
   "id": "430353a6",
   "metadata": {},
   "outputs": [
    {
     "data": {
      "text/html": [
       "<div>\n",
       "<style scoped>\n",
       "    .dataframe tbody tr th:only-of-type {\n",
       "        vertical-align: middle;\n",
       "    }\n",
       "\n",
       "    .dataframe tbody tr th {\n",
       "        vertical-align: top;\n",
       "    }\n",
       "\n",
       "    .dataframe thead th {\n",
       "        text-align: right;\n",
       "    }\n",
       "</style>\n",
       "<table border=\"1\" class=\"dataframe\">\n",
       "  <thead>\n",
       "    <tr style=\"text-align: right;\">\n",
       "      <th></th>\n",
       "      <th>carat</th>\n",
       "      <th>cut</th>\n",
       "      <th>color</th>\n",
       "      <th>clarity</th>\n",
       "      <th>depth</th>\n",
       "      <th>table</th>\n",
       "    </tr>\n",
       "  </thead>\n",
       "  <tbody>\n",
       "    <tr>\n",
       "      <th>14581</th>\n",
       "      <td>1.059512</td>\n",
       "      <td>4</td>\n",
       "      <td>2</td>\n",
       "      <td>4</td>\n",
       "      <td>0.171865</td>\n",
       "      <td>-0.189641</td>\n",
       "    </tr>\n",
       "    <tr>\n",
       "      <th>16193</th>\n",
       "      <td>0.903062</td>\n",
       "      <td>4</td>\n",
       "      <td>3</td>\n",
       "      <td>4</td>\n",
       "      <td>0.311956</td>\n",
       "      <td>-0.189641</td>\n",
       "    </tr>\n",
       "    <tr>\n",
       "      <th>47539</th>\n",
       "      <td>-0.452838</td>\n",
       "      <td>4</td>\n",
       "      <td>4</td>\n",
       "      <td>4</td>\n",
       "      <td>0.241910</td>\n",
       "      <td>-1.087284</td>\n",
       "    </tr>\n",
       "    <tr>\n",
       "      <th>37307</th>\n",
       "      <td>-1.078638</td>\n",
       "      <td>4</td>\n",
       "      <td>4</td>\n",
       "      <td>8</td>\n",
       "      <td>0.031773</td>\n",
       "      <td>-1.536106</td>\n",
       "    </tr>\n",
       "    <tr>\n",
       "      <th>34645</th>\n",
       "      <td>-1.078638</td>\n",
       "      <td>4</td>\n",
       "      <td>5</td>\n",
       "      <td>4</td>\n",
       "      <td>-0.318456</td>\n",
       "      <td>-0.638463</td>\n",
       "    </tr>\n",
       "    <tr>\n",
       "      <th>...</th>\n",
       "      <td>...</td>\n",
       "      <td>...</td>\n",
       "      <td>...</td>\n",
       "      <td>...</td>\n",
       "      <td>...</td>\n",
       "      <td>...</td>\n",
       "    </tr>\n",
       "    <tr>\n",
       "      <th>11318</th>\n",
       "      <td>0.746612</td>\n",
       "      <td>2</td>\n",
       "      <td>5</td>\n",
       "      <td>3</td>\n",
       "      <td>0.592140</td>\n",
       "      <td>-0.189641</td>\n",
       "    </tr>\n",
       "    <tr>\n",
       "      <th>48406</th>\n",
       "      <td>-0.296388</td>\n",
       "      <td>2</td>\n",
       "      <td>2</td>\n",
       "      <td>6</td>\n",
       "      <td>-0.878823</td>\n",
       "      <td>-0.189641</td>\n",
       "    </tr>\n",
       "    <tr>\n",
       "      <th>41821</th>\n",
       "      <td>-0.583213</td>\n",
       "      <td>4</td>\n",
       "      <td>6</td>\n",
       "      <td>2</td>\n",
       "      <td>-0.528594</td>\n",
       "      <td>-0.189641</td>\n",
       "    </tr>\n",
       "    <tr>\n",
       "      <th>860</th>\n",
       "      <td>0.459787</td>\n",
       "      <td>3</td>\n",
       "      <td>0</td>\n",
       "      <td>3</td>\n",
       "      <td>0.732231</td>\n",
       "      <td>0.708002</td>\n",
       "    </tr>\n",
       "    <tr>\n",
       "      <th>15840</th>\n",
       "      <td>1.163812</td>\n",
       "      <td>2</td>\n",
       "      <td>2</td>\n",
       "      <td>3</td>\n",
       "      <td>-1.509236</td>\n",
       "      <td>2.054467</td>\n",
       "    </tr>\n",
       "  </tbody>\n",
       "</table>\n",
       "<p>40208 rows × 6 columns</p>\n",
       "</div>"
      ],
      "text/plain": [
       "          carat  cut  color  clarity     depth     table\n",
       "14581  1.059512    4      2        4  0.171865 -0.189641\n",
       "16193  0.903062    4      3        4  0.311956 -0.189641\n",
       "47539 -0.452838    4      4        4  0.241910 -1.087284\n",
       "37307 -1.078638    4      4        8  0.031773 -1.536106\n",
       "34645 -1.078638    4      5        4 -0.318456 -0.638463\n",
       "...         ...  ...    ...      ...       ...       ...\n",
       "11318  0.746612    2      5        3  0.592140 -0.189641\n",
       "48406 -0.296388    2      2        6 -0.878823 -0.189641\n",
       "41821 -0.583213    4      6        2 -0.528594 -0.189641\n",
       "860    0.459787    3      0        3  0.732231  0.708002\n",
       "15840  1.163812    2      2        3 -1.509236  2.054467\n",
       "\n",
       "[40208 rows x 6 columns]"
      ]
     },
     "execution_count": 89,
     "metadata": {},
     "output_type": "execute_result"
    }
   ],
   "source": [
    "x_train"
   ]
  },
  {
   "cell_type": "code",
   "execution_count": 85,
   "id": "cfe2bbae",
   "metadata": {},
   "outputs": [],
   "source": [
    "with open('model_dt','wb') as f:\n",
    "    pickle.dump(dt,f)"
   ]
  },
  {
   "cell_type": "code",
   "execution_count": 86,
   "id": "4499a271",
   "metadata": {},
   "outputs": [],
   "source": [
    "with open ('model_dt','rb') as f:\n",
    "    mp =pickle.load(f)"
   ]
  },
  {
   "cell_type": "code",
   "execution_count": null,
   "id": "7319741e",
   "metadata": {},
   "outputs": [],
   "source": []
  }
 ],
 "metadata": {
  "kernelspec": {
   "display_name": "Python 3 (ipykernel)",
   "language": "python",
   "name": "python3"
  },
  "language_info": {
   "codemirror_mode": {
    "name": "ipython",
    "version": 3
   },
   "file_extension": ".py",
   "mimetype": "text/x-python",
   "name": "python",
   "nbconvert_exporter": "python",
   "pygments_lexer": "ipython3",
   "version": "3.9.13"
  }
 },
 "nbformat": 4,
 "nbformat_minor": 5
}
